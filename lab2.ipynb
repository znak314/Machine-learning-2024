{
 "cells": [
  {
   "cell_type": "markdown",
   "id": "79be41e1",
   "metadata": {},
   "source": [
    "# 1) Завантажую дані з файлу у датафрейм та виконую форматування"
   ]
  },
  {
   "cell_type": "code",
   "execution_count": 1,
   "id": "87a32916",
   "metadata": {},
   "outputs": [],
   "source": [
    "import numpy as np\n",
    "import pandas as pd"
   ]
  },
  {
   "cell_type": "code",
   "execution_count": 11,
   "id": "5db4bc3e",
   "metadata": {},
   "outputs": [],
   "source": [
    "nyc = pd.read_csv('nyc_1895_2018.csv')"
   ]
  },
  {
   "cell_type": "code",
   "execution_count": 12,
   "id": "d685bdca",
   "metadata": {},
   "outputs": [
    {
     "data": {
      "text/html": [
       "<div>\n",
       "<style scoped>\n",
       "    .dataframe tbody tr th:only-of-type {\n",
       "        vertical-align: middle;\n",
       "    }\n",
       "\n",
       "    .dataframe tbody tr th {\n",
       "        vertical-align: top;\n",
       "    }\n",
       "\n",
       "    .dataframe thead th {\n",
       "        text-align: right;\n",
       "    }\n",
       "</style>\n",
       "<table border=\"1\" class=\"dataframe\">\n",
       "  <thead>\n",
       "    <tr style=\"text-align: right;\">\n",
       "      <th></th>\n",
       "      <th>Date</th>\n",
       "      <th>Value</th>\n",
       "      <th>Anomaly</th>\n",
       "    </tr>\n",
       "  </thead>\n",
       "  <tbody>\n",
       "    <tr>\n",
       "      <th>0</th>\n",
       "      <td>189501</td>\n",
       "      <td>29.8</td>\n",
       "      <td>-1.8</td>\n",
       "    </tr>\n",
       "    <tr>\n",
       "      <th>1</th>\n",
       "      <td>189601</td>\n",
       "      <td>28.6</td>\n",
       "      <td>-3.0</td>\n",
       "    </tr>\n",
       "    <tr>\n",
       "      <th>2</th>\n",
       "      <td>189701</td>\n",
       "      <td>29.4</td>\n",
       "      <td>-2.2</td>\n",
       "    </tr>\n",
       "    <tr>\n",
       "      <th>3</th>\n",
       "      <td>189801</td>\n",
       "      <td>34.0</td>\n",
       "      <td>2.4</td>\n",
       "    </tr>\n",
       "    <tr>\n",
       "      <th>4</th>\n",
       "      <td>189901</td>\n",
       "      <td>30.0</td>\n",
       "      <td>-1.6</td>\n",
       "    </tr>\n",
       "  </tbody>\n",
       "</table>\n",
       "</div>"
      ],
      "text/plain": [
       "     Date  Value  Anomaly\n",
       "0  189501   29.8     -1.8\n",
       "1  189601   28.6     -3.0\n",
       "2  189701   29.4     -2.2\n",
       "3  189801   34.0      2.4\n",
       "4  189901   30.0     -1.6"
      ]
     },
     "execution_count": 12,
     "metadata": {},
     "output_type": "execute_result"
    }
   ],
   "source": [
    "nyc.head()"
   ]
  },
  {
   "cell_type": "code",
   "execution_count": 13,
   "id": "7ff65a1d",
   "metadata": {},
   "outputs": [
    {
     "data": {
      "text/html": [
       "<div>\n",
       "<style scoped>\n",
       "    .dataframe tbody tr th:only-of-type {\n",
       "        vertical-align: middle;\n",
       "    }\n",
       "\n",
       "    .dataframe tbody tr th {\n",
       "        vertical-align: top;\n",
       "    }\n",
       "\n",
       "    .dataframe thead th {\n",
       "        text-align: right;\n",
       "    }\n",
       "</style>\n",
       "<table border=\"1\" class=\"dataframe\">\n",
       "  <thead>\n",
       "    <tr style=\"text-align: right;\">\n",
       "      <th></th>\n",
       "      <th>Date</th>\n",
       "      <th>Value</th>\n",
       "      <th>Anomaly</th>\n",
       "    </tr>\n",
       "  </thead>\n",
       "  <tbody>\n",
       "    <tr>\n",
       "      <th>119</th>\n",
       "      <td>201401</td>\n",
       "      <td>28.7</td>\n",
       "      <td>-2.9</td>\n",
       "    </tr>\n",
       "    <tr>\n",
       "      <th>120</th>\n",
       "      <td>201501</td>\n",
       "      <td>30.0</td>\n",
       "      <td>-1.6</td>\n",
       "    </tr>\n",
       "    <tr>\n",
       "      <th>121</th>\n",
       "      <td>201601</td>\n",
       "      <td>34.5</td>\n",
       "      <td>2.9</td>\n",
       "    </tr>\n",
       "    <tr>\n",
       "      <th>122</th>\n",
       "      <td>201701</td>\n",
       "      <td>38.1</td>\n",
       "      <td>6.5</td>\n",
       "    </tr>\n",
       "    <tr>\n",
       "      <th>123</th>\n",
       "      <td>201801</td>\n",
       "      <td>31.8</td>\n",
       "      <td>0.2</td>\n",
       "    </tr>\n",
       "  </tbody>\n",
       "</table>\n",
       "</div>"
      ],
      "text/plain": [
       "       Date  Value  Anomaly\n",
       "119  201401   28.7     -2.9\n",
       "120  201501   30.0     -1.6\n",
       "121  201601   34.5      2.9\n",
       "122  201701   38.1      6.5\n",
       "123  201801   31.8      0.2"
      ]
     },
     "execution_count": 13,
     "metadata": {},
     "output_type": "execute_result"
    }
   ],
   "source": [
    "nyc.tail()"
   ]
  },
  {
   "cell_type": "markdown",
   "id": "6b2c955c",
   "metadata": {},
   "source": [
    "Перейменовую стовпець"
   ]
  },
  {
   "cell_type": "code",
   "execution_count": 14,
   "id": "2173e409",
   "metadata": {},
   "outputs": [
    {
     "data": {
      "text/html": [
       "<div>\n",
       "<style scoped>\n",
       "    .dataframe tbody tr th:only-of-type {\n",
       "        vertical-align: middle;\n",
       "    }\n",
       "\n",
       "    .dataframe tbody tr th {\n",
       "        vertical-align: top;\n",
       "    }\n",
       "\n",
       "    .dataframe thead th {\n",
       "        text-align: right;\n",
       "    }\n",
       "</style>\n",
       "<table border=\"1\" class=\"dataframe\">\n",
       "  <thead>\n",
       "    <tr style=\"text-align: right;\">\n",
       "      <th></th>\n",
       "      <th>Date</th>\n",
       "      <th>Temperature</th>\n",
       "      <th>Anomaly</th>\n",
       "    </tr>\n",
       "  </thead>\n",
       "  <tbody>\n",
       "    <tr>\n",
       "      <th>0</th>\n",
       "      <td>189501</td>\n",
       "      <td>29.8</td>\n",
       "      <td>-1.8</td>\n",
       "    </tr>\n",
       "    <tr>\n",
       "      <th>1</th>\n",
       "      <td>189601</td>\n",
       "      <td>28.6</td>\n",
       "      <td>-3.0</td>\n",
       "    </tr>\n",
       "    <tr>\n",
       "      <th>2</th>\n",
       "      <td>189701</td>\n",
       "      <td>29.4</td>\n",
       "      <td>-2.2</td>\n",
       "    </tr>\n",
       "    <tr>\n",
       "      <th>3</th>\n",
       "      <td>189801</td>\n",
       "      <td>34.0</td>\n",
       "      <td>2.4</td>\n",
       "    </tr>\n",
       "    <tr>\n",
       "      <th>4</th>\n",
       "      <td>189901</td>\n",
       "      <td>30.0</td>\n",
       "      <td>-1.6</td>\n",
       "    </tr>\n",
       "  </tbody>\n",
       "</table>\n",
       "</div>"
      ],
      "text/plain": [
       "     Date  Temperature  Anomaly\n",
       "0  189501         29.8     -1.8\n",
       "1  189601         28.6     -3.0\n",
       "2  189701         29.4     -2.2\n",
       "3  189801         34.0      2.4\n",
       "4  189901         30.0     -1.6"
      ]
     },
     "execution_count": 14,
     "metadata": {},
     "output_type": "execute_result"
    }
   ],
   "source": [
    "nyc.columns = ['Date', 'Temperature', 'Anomaly']\n",
    "nyc.head()"
   ]
  },
  {
   "cell_type": "markdown",
   "id": "51563d45",
   "metadata": {},
   "source": [
    "Позбуваюсь 01"
   ]
  },
  {
   "cell_type": "code",
   "execution_count": 15,
   "id": "8c73ac46",
   "metadata": {},
   "outputs": [
    {
     "data": {
      "text/html": [
       "<div>\n",
       "<style scoped>\n",
       "    .dataframe tbody tr th:only-of-type {\n",
       "        vertical-align: middle;\n",
       "    }\n",
       "\n",
       "    .dataframe tbody tr th {\n",
       "        vertical-align: top;\n",
       "    }\n",
       "\n",
       "    .dataframe thead th {\n",
       "        text-align: right;\n",
       "    }\n",
       "</style>\n",
       "<table border=\"1\" class=\"dataframe\">\n",
       "  <thead>\n",
       "    <tr style=\"text-align: right;\">\n",
       "      <th></th>\n",
       "      <th>Date</th>\n",
       "      <th>Temperature</th>\n",
       "      <th>Anomaly</th>\n",
       "    </tr>\n",
       "  </thead>\n",
       "  <tbody>\n",
       "    <tr>\n",
       "      <th>0</th>\n",
       "      <td>1895</td>\n",
       "      <td>29.8</td>\n",
       "      <td>-1.8</td>\n",
       "    </tr>\n",
       "    <tr>\n",
       "      <th>1</th>\n",
       "      <td>1896</td>\n",
       "      <td>28.6</td>\n",
       "      <td>-3.0</td>\n",
       "    </tr>\n",
       "    <tr>\n",
       "      <th>2</th>\n",
       "      <td>1897</td>\n",
       "      <td>29.4</td>\n",
       "      <td>-2.2</td>\n",
       "    </tr>\n",
       "    <tr>\n",
       "      <th>3</th>\n",
       "      <td>1898</td>\n",
       "      <td>34.0</td>\n",
       "      <td>2.4</td>\n",
       "    </tr>\n",
       "    <tr>\n",
       "      <th>4</th>\n",
       "      <td>1899</td>\n",
       "      <td>30.0</td>\n",
       "      <td>-1.6</td>\n",
       "    </tr>\n",
       "  </tbody>\n",
       "</table>\n",
       "</div>"
      ],
      "text/plain": [
       "   Date  Temperature  Anomaly\n",
       "0  1895         29.8     -1.8\n",
       "1  1896         28.6     -3.0\n",
       "2  1897         29.4     -2.2\n",
       "3  1898         34.0      2.4\n",
       "4  1899         30.0     -1.6"
      ]
     },
     "execution_count": 15,
     "metadata": {},
     "output_type": "execute_result"
    }
   ],
   "source": [
    "nyc.Date = nyc.Date.floordiv(100)\n",
    "nyc.head()"
   ]
  },
  {
   "cell_type": "markdown",
   "id": "57934c2d",
   "metadata": {},
   "source": [
    "Переглянемо основні статистичні показники"
   ]
  },
  {
   "cell_type": "code",
   "execution_count": 16,
   "id": "74af3148",
   "metadata": {},
   "outputs": [
    {
     "data": {
      "text/html": [
       "<div>\n",
       "<style scoped>\n",
       "    .dataframe tbody tr th:only-of-type {\n",
       "        vertical-align: middle;\n",
       "    }\n",
       "\n",
       "    .dataframe tbody tr th {\n",
       "        vertical-align: top;\n",
       "    }\n",
       "\n",
       "    .dataframe thead th {\n",
       "        text-align: right;\n",
       "    }\n",
       "</style>\n",
       "<table border=\"1\" class=\"dataframe\">\n",
       "  <thead>\n",
       "    <tr style=\"text-align: right;\">\n",
       "      <th></th>\n",
       "      <th>Date</th>\n",
       "      <th>Temperature</th>\n",
       "      <th>Anomaly</th>\n",
       "    </tr>\n",
       "  </thead>\n",
       "  <tbody>\n",
       "    <tr>\n",
       "      <th>count</th>\n",
       "      <td>124.000000</td>\n",
       "      <td>124.000000</td>\n",
       "      <td>124.000000</td>\n",
       "    </tr>\n",
       "    <tr>\n",
       "      <th>mean</th>\n",
       "      <td>1956.500000</td>\n",
       "      <td>31.829032</td>\n",
       "      <td>0.229032</td>\n",
       "    </tr>\n",
       "    <tr>\n",
       "      <th>std</th>\n",
       "      <td>35.939764</td>\n",
       "      <td>4.472804</td>\n",
       "      <td>4.472804</td>\n",
       "    </tr>\n",
       "    <tr>\n",
       "      <th>min</th>\n",
       "      <td>1895.000000</td>\n",
       "      <td>20.900000</td>\n",
       "      <td>-10.700000</td>\n",
       "    </tr>\n",
       "    <tr>\n",
       "      <th>25%</th>\n",
       "      <td>1925.750000</td>\n",
       "      <td>29.100000</td>\n",
       "      <td>-2.500000</td>\n",
       "    </tr>\n",
       "    <tr>\n",
       "      <th>50%</th>\n",
       "      <td>1956.500000</td>\n",
       "      <td>31.600000</td>\n",
       "      <td>0.000000</td>\n",
       "    </tr>\n",
       "    <tr>\n",
       "      <th>75%</th>\n",
       "      <td>1987.250000</td>\n",
       "      <td>34.900000</td>\n",
       "      <td>3.300000</td>\n",
       "    </tr>\n",
       "    <tr>\n",
       "      <th>max</th>\n",
       "      <td>2018.000000</td>\n",
       "      <td>42.500000</td>\n",
       "      <td>10.900000</td>\n",
       "    </tr>\n",
       "  </tbody>\n",
       "</table>\n",
       "</div>"
      ],
      "text/plain": [
       "              Date  Temperature     Anomaly\n",
       "count   124.000000   124.000000  124.000000\n",
       "mean   1956.500000    31.829032    0.229032\n",
       "std      35.939764     4.472804    4.472804\n",
       "min    1895.000000    20.900000  -10.700000\n",
       "25%    1925.750000    29.100000   -2.500000\n",
       "50%    1956.500000    31.600000    0.000000\n",
       "75%    1987.250000    34.900000    3.300000\n",
       "max    2018.000000    42.500000   10.900000"
      ]
     },
     "execution_count": 16,
     "metadata": {},
     "output_type": "execute_result"
    }
   ],
   "source": [
    "nyc.describe()"
   ]
  },
  {
   "cell_type": "markdown",
   "id": "c6df44e1",
   "metadata": {},
   "source": [
    "# 2) Представлення даних у вигляді регресійної прямої"
   ]
  },
  {
   "cell_type": "code",
   "execution_count": 22,
   "id": "f38af47d",
   "metadata": {},
   "outputs": [],
   "source": [
    "import seaborn as sns\n",
    "import matplotlib.pyplot as plt\n",
    "from scipy import stats"
   ]
  },
  {
   "cell_type": "code",
   "execution_count": 41,
   "id": "b0fbfdfd",
   "metadata": {},
   "outputs": [
    {
     "data": {
      "image/png": "[encoded data removed]",
      "text/plain": [
       "<Figure size 1200x800 with 1 Axes>"
      ]
     },
     "metadata": {},
     "output_type": "display_data"
    }
   ],
   "source": [
    "linear_regression = stats.linregress(x = nyc.Date, y = nyc.Temperature)\n",
    "\n",
    "plt.figure(figsize=(12, 8))\n",
    "plt.plot(nyc.Date, linear_regression.slope*nyc.Date + linear_regression.intercept, color='red')\n",
    "plt.xlabel('Date')\n",
    "plt.ylabel('Temperature')\n",
    "plt.title('Linear Regression: Date vs Temperature')\n",
    "plt.show()"
   ]
  },
  {
   "cell_type": "markdown",
   "id": "5ae285e4",
   "metadata": {},
   "source": [
    "# 3) Прогнозування даних на 2019, 2020, 2021 та 2022, 2023, 2024 роки."
   ]
  },
  {
   "cell_type": "code",
   "execution_count": 62,
   "id": "4e3069c6",
   "metadata": {},
   "outputs": [
    {
     "name": "stdout",
     "output_type": "stream",
     "text": [
      "Для  2019  року прогнозується температура:  33.28308418568058\n",
      "Для  2020  року прогнозується температура:  33.30634901652243\n",
      "Для  2021  року прогнозується температура:  33.329613847364286\n",
      "Для  2022  року прогнозується температура:  33.35287867820614\n",
      "Для  2023  року прогнозується температура:  33.376143509048006\n",
      "Для  2024  року прогнозується температура:  33.39940833988986\n"
     ]
    }
   ],
   "source": [
    "years = list(range(2019, 2025))\n",
    "predicted_temperatures = []\n",
    "\n",
    "for x in years:\n",
    "    predicted_temp = linear_regression.slope * x + linear_regression.intercept\n",
    "    predicted_temperatures.append(predicted_temp)\n",
    "    print(\"Для \", x, \" року прогнозується температура: \", predicted_temp)"
   ]
  },
  {
   "cell_type": "markdown",
   "id": "3bd6b48e",
   "metadata": {},
   "source": [
    "# 4) Оцінка показників температури до 1895 року"
   ]
  },
  {
   "cell_type": "code",
   "execution_count": 63,
   "id": "b80a6b0d",
   "metadata": {},
   "outputs": [
    {
     "name": "stdout",
     "output_type": "stream",
     "text": [
      "Оцінка можливої температури  1880  року:  30.049272698662474\n",
      "Оцінка можливої температури  1881  року:  30.072537529504334\n",
      "Оцінка можливої температури  1882  року:  30.095802360346187\n",
      "Оцінка можливої температури  1883  року:  30.119067191188048\n",
      "Оцінка можливої температури  1884  року:  30.1423320220299\n",
      "Оцінка можливої температури  1885  року:  30.16559685287176\n",
      "Оцінка можливої температури  1886  року:  30.188861683713615\n",
      "Оцінка можливої температури  1887  року:  30.212126514555475\n",
      "Оцінка можливої температури  1888  року:  30.23539134539733\n",
      "Оцінка можливої температури  1889  року:  30.25865617623919\n",
      "Оцінка можливої температури  1890  року:  30.281921007081042\n",
      "Оцінка можливої температури  1891  року:  30.305185837922902\n",
      "Оцінка можливої температури  1892  року:  30.328450668764756\n",
      "Оцінка можливої температури  1893  року:  30.351715499606616\n",
      "Оцінка можливої температури  1894  року:  30.37498033044847\n"
     ]
    }
   ],
   "source": [
    "years = list(range(1880, 1895))\n",
    "\n",
    "for x in years:\n",
    "    predicted_temp = linear_regression.slope * x + linear_regression.intercept\n",
    "    print(\"Оцінка можливої температури \", x, \" року: \", predicted_temp)"
   ]
  },
  {
   "cell_type": "markdown",
   "id": "b619c991",
   "metadata": {},
   "source": [
    "# 5) Використання функції regplot для виведення всіх точок даних"
   ]
  },
  {
   "cell_type": "code",
   "execution_count": 64,
   "id": "63ae7251",
   "metadata": {},
   "outputs": [
    {
     "data": {
      "image/png": "[encoded data removed]",
      "text/plain": [
       "<Figure size 1200x800 with 1 Axes>"
      ]
     },
     "metadata": {},
     "output_type": "display_data"
    }
   ],
   "source": [
    "plt.figure(figsize=(12, 8))\n",
    "sns.set_style('whitegrid')\n",
    "axes = sns.regplot(x = nyc.Date, y = nyc.Temperature)"
   ]
  },
  {
   "cell_type": "markdown",
   "id": "121e44af",
   "metadata": {},
   "source": [
    "Кут нахилу регресійної прямої вказує на те, що в останні 124 роки середня температура у Нью Йорку підвищувалась"
   ]
  },
  {
   "cell_type": "markdown",
   "id": "e9fb6961",
   "metadata": {},
   "source": [
    "# 6) Виконання масштабування осі y"
   ]
  },
  {
   "cell_type": "markdown",
   "id": "5ef24fb2",
   "metadata": {},
   "source": [
    "Проведемо масштабування: установимо діапазон для y [10;50]"
   ]
  },
  {
   "cell_type": "code",
   "execution_count": 65,
   "id": "cdd01518",
   "metadata": {},
   "outputs": [
    {
     "data": {
      "text/plain": [
       "(10.0, 50.0)"
      ]
     },
     "execution_count": 65,
     "metadata": {},
     "output_type": "execute_result"
    },
    {
     "data": {
      "image/png": "[encoded data removed]",
      "text/plain": [
       "<Figure size 1200x800 with 1 Axes>"
      ]
     },
     "metadata": {},
     "output_type": "display_data"
    }
   ],
   "source": [
    "plt.figure(figsize=(12, 8))\n",
    "axes = sns.regplot(x = nyc.Date, y = nyc.Temperature)\n",
    "axes.set_ylim(10,50)"
   ]
  },
  {
   "cell_type": "markdown",
   "id": "a446482b",
   "metadata": {},
   "source": [
    "# 7) Порівняння отриманого прогнозу з реальними даними з NOAA «Climate at a Glance»"
   ]
  },
  {
   "cell_type": "markdown",
   "id": "6b37a0ec",
   "metadata": {},
   "source": [
    "Завантажимо дані з 2019 - 2024 роками у датафрейм"
   ]
  },
  {
   "cell_type": "code",
   "execution_count": 87,
   "id": "31ca6cdc",
   "metadata": {},
   "outputs": [],
   "source": [
    "df_real = pd.read_csv('nyc_2019_2024.csv')"
   ]
  },
  {
   "cell_type": "code",
   "execution_count": 88,
   "id": "ce4a2686",
   "metadata": {},
   "outputs": [
    {
     "data": {
      "text/html": [
       "<div>\n",
       "<style scoped>\n",
       "    .dataframe tbody tr th:only-of-type {\n",
       "        vertical-align: middle;\n",
       "    }\n",
       "\n",
       "    .dataframe tbody tr th {\n",
       "        vertical-align: top;\n",
       "    }\n",
       "\n",
       "    .dataframe thead th {\n",
       "        text-align: right;\n",
       "    }\n",
       "</style>\n",
       "<table border=\"1\" class=\"dataframe\">\n",
       "  <thead>\n",
       "    <tr style=\"text-align: right;\">\n",
       "      <th></th>\n",
       "      <th>Date</th>\n",
       "      <th>Value</th>\n",
       "      <th>Anomaly</th>\n",
       "    </tr>\n",
       "  </thead>\n",
       "  <tbody>\n",
       "    <tr>\n",
       "      <th>0</th>\n",
       "      <td>201901</td>\n",
       "      <td>32.6</td>\n",
       "      <td>-3.0</td>\n",
       "    </tr>\n",
       "    <tr>\n",
       "      <th>1</th>\n",
       "      <td>202001</td>\n",
       "      <td>39.2</td>\n",
       "      <td>3.6</td>\n",
       "    </tr>\n",
       "    <tr>\n",
       "      <th>2</th>\n",
       "      <td>202101</td>\n",
       "      <td>34.8</td>\n",
       "      <td>-0.8</td>\n",
       "    </tr>\n",
       "    <tr>\n",
       "      <th>3</th>\n",
       "      <td>202201</td>\n",
       "      <td>30.4</td>\n",
       "      <td>-5.2</td>\n",
       "    </tr>\n",
       "    <tr>\n",
       "      <th>4</th>\n",
       "      <td>202301</td>\n",
       "      <td>43.5</td>\n",
       "      <td>7.9</td>\n",
       "    </tr>\n",
       "    <tr>\n",
       "      <th>5</th>\n",
       "      <td>202401</td>\n",
       "      <td>37.0</td>\n",
       "      <td>1.4</td>\n",
       "    </tr>\n",
       "  </tbody>\n",
       "</table>\n",
       "</div>"
      ],
      "text/plain": [
       "     Date  Value  Anomaly\n",
       "0  201901   32.6     -3.0\n",
       "1  202001   39.2      3.6\n",
       "2  202101   34.8     -0.8\n",
       "3  202201   30.4     -5.2\n",
       "4  202301   43.5      7.9\n",
       "5  202401   37.0      1.4"
      ]
     },
     "execution_count": 88,
     "metadata": {},
     "output_type": "execute_result"
    }
   ],
   "source": [
    "df_real"
   ]
  },
  {
   "cell_type": "markdown",
   "id": "8d4ace3c",
   "metadata": {},
   "source": [
    "Проведемо форматування"
   ]
  },
  {
   "cell_type": "code",
   "execution_count": 89,
   "id": "de797c13",
   "metadata": {},
   "outputs": [],
   "source": [
    "df_real.drop(columns=['Anomaly'], inplace=True)\n",
    "df_real.columns = ['Date', 'Real Temperature']"
   ]
  },
  {
   "cell_type": "code",
   "execution_count": 90,
   "id": "8546557d",
   "metadata": {},
   "outputs": [
    {
     "data": {
      "text/html": [
       "<div>\n",
       "<style scoped>\n",
       "    .dataframe tbody tr th:only-of-type {\n",
       "        vertical-align: middle;\n",
       "    }\n",
       "\n",
       "    .dataframe tbody tr th {\n",
       "        vertical-align: top;\n",
       "    }\n",
       "\n",
       "    .dataframe thead th {\n",
       "        text-align: right;\n",
       "    }\n",
       "</style>\n",
       "<table border=\"1\" class=\"dataframe\">\n",
       "  <thead>\n",
       "    <tr style=\"text-align: right;\">\n",
       "      <th></th>\n",
       "      <th>Date</th>\n",
       "      <th>Real Temperature</th>\n",
       "    </tr>\n",
       "  </thead>\n",
       "  <tbody>\n",
       "    <tr>\n",
       "      <th>0</th>\n",
       "      <td>2019</td>\n",
       "      <td>32.6</td>\n",
       "    </tr>\n",
       "    <tr>\n",
       "      <th>1</th>\n",
       "      <td>2020</td>\n",
       "      <td>39.2</td>\n",
       "    </tr>\n",
       "    <tr>\n",
       "      <th>2</th>\n",
       "      <td>2021</td>\n",
       "      <td>34.8</td>\n",
       "    </tr>\n",
       "    <tr>\n",
       "      <th>3</th>\n",
       "      <td>2022</td>\n",
       "      <td>30.4</td>\n",
       "    </tr>\n",
       "    <tr>\n",
       "      <th>4</th>\n",
       "      <td>2023</td>\n",
       "      <td>43.5</td>\n",
       "    </tr>\n",
       "    <tr>\n",
       "      <th>5</th>\n",
       "      <td>2024</td>\n",
       "      <td>37.0</td>\n",
       "    </tr>\n",
       "  </tbody>\n",
       "</table>\n",
       "</div>"
      ],
      "text/plain": [
       "   Date  Real Temperature\n",
       "0  2019              32.6\n",
       "1  2020              39.2\n",
       "2  2021              34.8\n",
       "3  2022              30.4\n",
       "4  2023              43.5\n",
       "5  2024              37.0"
      ]
     },
     "execution_count": 90,
     "metadata": {},
     "output_type": "execute_result"
    }
   ],
   "source": [
    "df_real.Date = df_real.Date.floordiv(100)\n",
    "df_real"
   ]
  },
  {
   "cell_type": "markdown",
   "id": "20ecd04f",
   "metadata": {},
   "source": [
    "Для наочності, помістимо реальні і прогнозовані дані у один датафрейм"
   ]
  },
  {
   "cell_type": "code",
   "execution_count": 91,
   "id": "48480221",
   "metadata": {},
   "outputs": [
    {
     "data": {
      "text/html": [
       "<div>\n",
       "<style scoped>\n",
       "    .dataframe tbody tr th:only-of-type {\n",
       "        vertical-align: middle;\n",
       "    }\n",
       "\n",
       "    .dataframe tbody tr th {\n",
       "        vertical-align: top;\n",
       "    }\n",
       "\n",
       "    .dataframe thead th {\n",
       "        text-align: right;\n",
       "    }\n",
       "</style>\n",
       "<table border=\"1\" class=\"dataframe\">\n",
       "  <thead>\n",
       "    <tr style=\"text-align: right;\">\n",
       "      <th></th>\n",
       "      <th>Date</th>\n",
       "      <th>Real Temperature</th>\n",
       "      <th>Predicted_Temperature</th>\n",
       "    </tr>\n",
       "  </thead>\n",
       "  <tbody>\n",
       "    <tr>\n",
       "      <th>0</th>\n",
       "      <td>2019</td>\n",
       "      <td>32.6</td>\n",
       "      <td>33.283084</td>\n",
       "    </tr>\n",
       "    <tr>\n",
       "      <th>1</th>\n",
       "      <td>2020</td>\n",
       "      <td>39.2</td>\n",
       "      <td>33.306349</td>\n",
       "    </tr>\n",
       "    <tr>\n",
       "      <th>2</th>\n",
       "      <td>2021</td>\n",
       "      <td>34.8</td>\n",
       "      <td>33.329614</td>\n",
       "    </tr>\n",
       "    <tr>\n",
       "      <th>3</th>\n",
       "      <td>2022</td>\n",
       "      <td>30.4</td>\n",
       "      <td>33.352879</td>\n",
       "    </tr>\n",
       "    <tr>\n",
       "      <th>4</th>\n",
       "      <td>2023</td>\n",
       "      <td>43.5</td>\n",
       "      <td>33.376144</td>\n",
       "    </tr>\n",
       "    <tr>\n",
       "      <th>5</th>\n",
       "      <td>2024</td>\n",
       "      <td>37.0</td>\n",
       "      <td>33.399408</td>\n",
       "    </tr>\n",
       "  </tbody>\n",
       "</table>\n",
       "</div>"
      ],
      "text/plain": [
       "   Date  Real Temperature  Predicted_Temperature\n",
       "0  2019              32.6              33.283084\n",
       "1  2020              39.2              33.306349\n",
       "2  2021              34.8              33.329614\n",
       "3  2022              30.4              33.352879\n",
       "4  2023              43.5              33.376144\n",
       "5  2024              37.0              33.399408"
      ]
     },
     "execution_count": 91,
     "metadata": {},
     "output_type": "execute_result"
    }
   ],
   "source": [
    "df_real['Predicted_Temperature'] = predicted_temperatures\n",
    "df_real"
   ]
  },
  {
   "cell_type": "markdown",
   "id": "03ab21ce",
   "metadata": {},
   "source": [
    "Додамо стовпець з різницями між реальною температурою та прогнозованою"
   ]
  },
  {
   "cell_type": "code",
   "execution_count": 92,
   "id": "eeaeda10",
   "metadata": {},
   "outputs": [
    {
     "data": {
      "text/html": [
       "<div>\n",
       "<style scoped>\n",
       "    .dataframe tbody tr th:only-of-type {\n",
       "        vertical-align: middle;\n",
       "    }\n",
       "\n",
       "    .dataframe tbody tr th {\n",
       "        vertical-align: top;\n",
       "    }\n",
       "\n",
       "    .dataframe thead th {\n",
       "        text-align: right;\n",
       "    }\n",
       "</style>\n",
       "<table border=\"1\" class=\"dataframe\">\n",
       "  <thead>\n",
       "    <tr style=\"text-align: right;\">\n",
       "      <th></th>\n",
       "      <th>Date</th>\n",
       "      <th>Real Temperature</th>\n",
       "      <th>Predicted_Temperature</th>\n",
       "      <th>Absolute_Difference</th>\n",
       "    </tr>\n",
       "  </thead>\n",
       "  <tbody>\n",
       "    <tr>\n",
       "      <th>0</th>\n",
       "      <td>2019</td>\n",
       "      <td>32.6</td>\n",
       "      <td>33.283084</td>\n",
       "      <td>0.683084</td>\n",
       "    </tr>\n",
       "    <tr>\n",
       "      <th>1</th>\n",
       "      <td>2020</td>\n",
       "      <td>39.2</td>\n",
       "      <td>33.306349</td>\n",
       "      <td>5.893651</td>\n",
       "    </tr>\n",
       "    <tr>\n",
       "      <th>2</th>\n",
       "      <td>2021</td>\n",
       "      <td>34.8</td>\n",
       "      <td>33.329614</td>\n",
       "      <td>1.470386</td>\n",
       "    </tr>\n",
       "    <tr>\n",
       "      <th>3</th>\n",
       "      <td>2022</td>\n",
       "      <td>30.4</td>\n",
       "      <td>33.352879</td>\n",
       "      <td>2.952879</td>\n",
       "    </tr>\n",
       "    <tr>\n",
       "      <th>4</th>\n",
       "      <td>2023</td>\n",
       "      <td>43.5</td>\n",
       "      <td>33.376144</td>\n",
       "      <td>10.123856</td>\n",
       "    </tr>\n",
       "    <tr>\n",
       "      <th>5</th>\n",
       "      <td>2024</td>\n",
       "      <td>37.0</td>\n",
       "      <td>33.399408</td>\n",
       "      <td>3.600592</td>\n",
       "    </tr>\n",
       "  </tbody>\n",
       "</table>\n",
       "</div>"
      ],
      "text/plain": [
       "   Date  Real Temperature  Predicted_Temperature  Absolute_Difference\n",
       "0  2019              32.6              33.283084             0.683084\n",
       "1  2020              39.2              33.306349             5.893651\n",
       "2  2021              34.8              33.329614             1.470386\n",
       "3  2022              30.4              33.352879             2.952879\n",
       "4  2023              43.5              33.376144            10.123856\n",
       "5  2024              37.0              33.399408             3.600592"
      ]
     },
     "execution_count": 92,
     "metadata": {},
     "output_type": "execute_result"
    }
   ],
   "source": [
    "df_real['Absolute_Difference'] = (df_real['Real Temperature'] - df_real['Predicted_Temperature']).abs()\n",
    "df_real"
   ]
  },
  {
   "cell_type": "markdown",
   "id": "5b49f6b7",
   "metadata": {},
   "source": [
    "Додамо стовпець з відсотковим співвідношенням абсолютною різниці температури до реальної температури"
   ]
  },
  {
   "cell_type": "code",
   "execution_count": 96,
   "id": "cb1ea883",
   "metadata": {},
   "outputs": [
    {
     "data": {
      "text/html": [
       "<div>\n",
       "<style scoped>\n",
       "    .dataframe tbody tr th:only-of-type {\n",
       "        vertical-align: middle;\n",
       "    }\n",
       "\n",
       "    .dataframe tbody tr th {\n",
       "        vertical-align: top;\n",
       "    }\n",
       "\n",
       "    .dataframe thead th {\n",
       "        text-align: right;\n",
       "    }\n",
       "</style>\n",
       "<table border=\"1\" class=\"dataframe\">\n",
       "  <thead>\n",
       "    <tr style=\"text-align: right;\">\n",
       "      <th></th>\n",
       "      <th>Date</th>\n",
       "      <th>Real Temperature</th>\n",
       "      <th>Predicted_Temperature</th>\n",
       "      <th>Absolute_Difference</th>\n",
       "      <th>Diif_percent</th>\n",
       "    </tr>\n",
       "  </thead>\n",
       "  <tbody>\n",
       "    <tr>\n",
       "      <th>0</th>\n",
       "      <td>2019</td>\n",
       "      <td>32.6</td>\n",
       "      <td>33.283084</td>\n",
       "      <td>0.683084</td>\n",
       "      <td>2.095350</td>\n",
       "    </tr>\n",
       "    <tr>\n",
       "      <th>1</th>\n",
       "      <td>2020</td>\n",
       "      <td>39.2</td>\n",
       "      <td>33.306349</td>\n",
       "      <td>5.893651</td>\n",
       "      <td>15.034824</td>\n",
       "    </tr>\n",
       "    <tr>\n",
       "      <th>2</th>\n",
       "      <td>2021</td>\n",
       "      <td>34.8</td>\n",
       "      <td>33.329614</td>\n",
       "      <td>1.470386</td>\n",
       "      <td>4.225248</td>\n",
       "    </tr>\n",
       "    <tr>\n",
       "      <th>3</th>\n",
       "      <td>2022</td>\n",
       "      <td>30.4</td>\n",
       "      <td>33.352879</td>\n",
       "      <td>2.952879</td>\n",
       "      <td>9.713417</td>\n",
       "    </tr>\n",
       "    <tr>\n",
       "      <th>4</th>\n",
       "      <td>2023</td>\n",
       "      <td>43.5</td>\n",
       "      <td>33.376144</td>\n",
       "      <td>10.123856</td>\n",
       "      <td>23.273233</td>\n",
       "    </tr>\n",
       "    <tr>\n",
       "      <th>5</th>\n",
       "      <td>2024</td>\n",
       "      <td>37.0</td>\n",
       "      <td>33.399408</td>\n",
       "      <td>3.600592</td>\n",
       "      <td>9.731329</td>\n",
       "    </tr>\n",
       "  </tbody>\n",
       "</table>\n",
       "</div>"
      ],
      "text/plain": [
       "   Date  Real Temperature  Predicted_Temperature  Absolute_Difference  \\\n",
       "0  2019              32.6              33.283084             0.683084   \n",
       "1  2020              39.2              33.306349             5.893651   \n",
       "2  2021              34.8              33.329614             1.470386   \n",
       "3  2022              30.4              33.352879             2.952879   \n",
       "4  2023              43.5              33.376144            10.123856   \n",
       "5  2024              37.0              33.399408             3.600592   \n",
       "\n",
       "   Diif_percent  \n",
       "0      2.095350  \n",
       "1     15.034824  \n",
       "2      4.225248  \n",
       "3      9.713417  \n",
       "4     23.273233  \n",
       "5      9.731329  "
      ]
     },
     "execution_count": 96,
     "metadata": {},
     "output_type": "execute_result"
    }
   ],
   "source": [
    "df_real['Diif_percent'] = (df_real['Absolute_Difference'] / df_real['Real Temperature']).abs() * 100 \n",
    "df_real"
   ]
  },
  {
   "cell_type": "markdown",
   "id": "27ffd156",
   "metadata": {},
   "source": [
    "Отримавши всі потрібні дані, можемо зробити висновок:\n",
    "\n",
    "    1. Прогноз на 2020 рік різниться з реальною температурою лише на показник, що приблизно становить 2% температури (у межах статистичної похибки)\n",
    "    \n",
    "    2. Для всіх інших досліджуваних років, прогноз виявся неточним \n",
    "    \n",
    "    3. Узагальному, зберігається тенденції до зростання температури у січні"
   ]
  }
 ],
 "metadata": {
  "kernelspec": {
   "display_name": "Python 3 (ipykernel)",
   "language": "python",
   "name": "python3"
  },
  "language_info": {
   "codemirror_mode": {
    "name": "ipython",
    "version": 3
   },
   "file_extension": ".py",
   "mimetype": "text/x-python",
   "name": "python",
   "nbconvert_exporter": "python",
   "pygments_lexer": "ipython3",
   "version": "3.11.5"
  }
 },
 "nbformat": 4,
 "nbformat_minor": 5
}
