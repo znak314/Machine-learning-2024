{
 "cells": [
  {
   "cell_type": "markdown",
   "id": "f09823d4",
   "metadata": {},
   "source": [
    "# Генерація Даних"
   ]
  },
  {
   "cell_type": "code",
   "execution_count": 1,
   "id": "b8050041",
   "metadata": {},
   "outputs": [],
   "source": [
    "import pandas as pd\n",
    "import numpy as np\n",
    "import random"
   ]
  },
  {
   "cell_type": "code",
   "execution_count": 2,
   "id": "2f5a65a4",
   "metadata": {},
   "outputs": [],
   "source": [
    "first_names = (\n",
    "    \"Андрій\", \"Софія\", \"Максим\", \"Іванна\", \"Олександр\", \"Анна\", \n",
    "    \"Володимир\", \"Марія\", \"Петро\", \"Ольга\", \"Роман\", \"Артем\", \n",
    "    \"Євген\", \"Юлія\", \"Дмитро\", \"Тетяна\", \"Віталій\", \"Катерина\",\n",
    "    \"Ірина\", \"Олег\", \"Наталія\", \"Владислав\", \"Олена\", \"Сергій\",\n",
    "    \"Ігор\", \"Анастасія\", \"Михайло\", \"Оксана\", \"Аліна\", \"Владислава\",\n",
    "    \"Єлизавета\", \"Георгій\", \"Людмила\", \"Руслан\", \"Марина\", \"Віктор\",\n",
    "    \"Ніна\", \"Денис\", \"Маргарита\", \"Валентин\", \"Дарина\", \"Анатолій\"\n",
    ")\n",
    "\n",
    "    \n",
    "last_names = (\n",
    "    \"Іванов\", \"Петров\", \"Сидоров\", \"Ковальчук\", \"Бондаренко\", \"Коваль\", \n",
    "    \"Мороз\", \"Козак\", \"Григоренко\", \"Мельник\", \"Кузьменко\", \n",
    "    \"Кравченко\", \"Павленко\", \"Лисенко\", \"Захарченко\", \"Колесник\", \n",
    "    \"Остапчук\", \"Даниленко\", \"Козлов\", \"Ткаченко\",\n",
    "    \"Шевченко\", \"Симоненко\", \"Савченко\", \"Карпенко\", \"Литвиненко\",\n",
    "    \"Попов\", \"Марченко\", \"Світличний\", \"Мазур\", \"Лазаренко\",\n",
    "    \"Приходько\", \"Лук'яненко\", \"Третяк\", \"Попович\", \"Іщенко\",\n",
    "    \"Кравцов\", \"Мироненко\", \"Бондар\", \"Гриценко\", \"Левченко\"\n",
    ")"
   ]
  },
  {
   "cell_type": "code",
   "execution_count": 3,
   "id": "12429660",
   "metadata": {},
   "outputs": [],
   "source": [
    "def get_name_surname():\n",
    "    return f\"{random.choice(first_names)} {random.choice(last_names)}\""
   ]
  },
  {
   "cell_type": "code",
   "execution_count": 4,
   "id": "76e74a39",
   "metadata": {},
   "outputs": [
    {
     "data": {
      "text/plain": [
       "'Тетяна Третяк'"
      ]
     },
     "execution_count": 4,
     "metadata": {},
     "output_type": "execute_result"
    }
   ],
   "source": [
    "get_name_surname()"
   ]
  },
  {
   "cell_type": "code",
   "execution_count": 5,
   "id": "c89293e5",
   "metadata": {},
   "outputs": [],
   "source": [
    "def is_unique_name(name_surname, dataset):\n",
    "    return name_surname not in (abiturient[0] for abiturient in dataset)"
   ]
  },
  {
   "cell_type": "code",
   "execution_count": 6,
   "id": "8ba78a29",
   "metadata": {},
   "outputs": [],
   "source": [
    "def generate_dataset(number = 15000):\n",
    "    dataset = []\n",
    "    for i in range(number):\n",
    "        name_surname = get_name_surname()\n",
    "        # while not is_unique_name(name_surname, dataset):\n",
    "        #   name_surname = get_name_surname()\n",
    "            \n",
    "        privilege = random.choices([True, False], weights=[0.2, 0.8], k=1)[0]\n",
    "        \n",
    "        math = random.randint(100, 200)\n",
    "        english = random.randint(100, 200)\n",
    "        ukrainian = random.randint(100, 200)\n",
    "        rate_score = 0.4 * math + 0.3 * english + 0.3 * ukrainian\n",
    "        decision = 'Незараховано'\n",
    "        dataset.append([name_surname, privilege, math, english, ukrainian, rate_score, decision])\n",
    "    \n",
    "    return dataset \n",
    "\n",
    "columns = [\"Ім'я Прізвище\", 'Пільга', 'Бал з математики', 'Бал з англійської', 'Бал з української', 'Рейтинг', 'Рішення']\n",
    "    \n",
    "def prepare_dataframe(total_capacity, size):\n",
    "    df = pd.DataFrame(generate_dataset(size), columns=columns)\n",
    "    df.sort_values(by='Рейтинг', ascending=False, inplace=True)\n",
    "    \n",
    "    privileged_capacity = int(total_capacity * 0.1)\n",
    "\n",
    "    possible_unprivileged_num = df[(df['Рейтинг'] >= 160) & (df['Бал з математики'] >= 140) & (~df['Пільга'])].shape[0]\n",
    "    possible_privileged_num = df[(df['Рейтинг'] >= 144) & (df['Бал з математики'] >= 120) & (df['Бал з англійської'] >= 120) & (df['Бал з української'] >= 120) & (df['Пільга'])].shape[0]\n",
    "\n",
    "    actual_unprivileged_num = min(possible_unprivileged_num, total_capacity - privileged_capacity)\n",
    "    actual_privileged_num = min(possible_privileged_num, privileged_capacity)\n",
    "\n",
    "    criteria_unprivileged = (df['Рейтинг'] >= 160) & (df['Бал з математики'] >= 140) & (~df['Пільга'])\n",
    "    selected_rows_unprivileged = df[criteria_unprivileged].head(actual_unprivileged_num)\n",
    "    df.loc[selected_rows_unprivileged.index, 'Рішення'] = 'Зараховано'\n",
    "\n",
    "    criteria_privileged = (df['Рейтинг'] >= 144) & (df['Бал з математики'] >= 120) & (df['Бал з англійської'] >= 120) & (df['Бал з української'] >= 120) & (df['Пільга'])\n",
    "    selected_rows_privileged = df[criteria_privileged].head(actual_privileged_num)\n",
    "    df.loc[selected_rows_privileged.index, 'Рішення'] = 'Зараховано'\n",
    "\n",
    "    return df"
   ]
  },
  {
   "cell_type": "markdown",
   "id": "dc3b6229",
   "metadata": {},
   "source": [
    "Уведемо граничні умови:\n",
    "    <li>Максимальна кількість зарахованих вступників - 350</li>\n",
    "    <li>Максимальна кількість зарахованих вступників пільгових категорій - 10% від загальної кількості</li>"
   ]
  },
  {
   "cell_type": "code",
   "execution_count": 7,
   "id": "e38976e7",
   "metadata": {},
   "outputs": [
    {
     "data": {
      "text/html": [
       "<div>\n",
       "<style scoped>\n",
       "    .dataframe tbody tr th:only-of-type {\n",
       "        vertical-align: middle;\n",
       "    }\n",
       "\n",
       "    .dataframe tbody tr th {\n",
       "        vertical-align: top;\n",
       "    }\n",
       "\n",
       "    .dataframe thead th {\n",
       "        text-align: right;\n",
       "    }\n",
       "</style>\n",
       "<table border=\"1\" class=\"dataframe\">\n",
       "  <thead>\n",
       "    <tr style=\"text-align: right;\">\n",
       "      <th></th>\n",
       "      <th>Ім'я Прізвище</th>\n",
       "      <th>Пільга</th>\n",
       "      <th>Бал з математики</th>\n",
       "      <th>Бал з англійської</th>\n",
       "      <th>Бал з української</th>\n",
       "      <th>Рейтинг</th>\n",
       "      <th>Рішення</th>\n",
       "    </tr>\n",
       "  </thead>\n",
       "  <tbody>\n",
       "    <tr>\n",
       "      <th>9999</th>\n",
       "      <td>Анастасія Ткаченко</td>\n",
       "      <td>False</td>\n",
       "      <td>200</td>\n",
       "      <td>200</td>\n",
       "      <td>193</td>\n",
       "      <td>197.9</td>\n",
       "      <td>Зараховано</td>\n",
       "    </tr>\n",
       "    <tr>\n",
       "      <th>10107</th>\n",
       "      <td>Аліна Симоненко</td>\n",
       "      <td>True</td>\n",
       "      <td>200</td>\n",
       "      <td>198</td>\n",
       "      <td>193</td>\n",
       "      <td>197.3</td>\n",
       "      <td>Зараховано</td>\n",
       "    </tr>\n",
       "    <tr>\n",
       "      <th>1866</th>\n",
       "      <td>Аліна Сидоров</td>\n",
       "      <td>False</td>\n",
       "      <td>197</td>\n",
       "      <td>196</td>\n",
       "      <td>199</td>\n",
       "      <td>197.3</td>\n",
       "      <td>Зараховано</td>\n",
       "    </tr>\n",
       "    <tr>\n",
       "      <th>10389</th>\n",
       "      <td>Максим Савченко</td>\n",
       "      <td>False</td>\n",
       "      <td>200</td>\n",
       "      <td>200</td>\n",
       "      <td>190</td>\n",
       "      <td>197.0</td>\n",
       "      <td>Зараховано</td>\n",
       "    </tr>\n",
       "    <tr>\n",
       "      <th>7271</th>\n",
       "      <td>Дарина Кравченко</td>\n",
       "      <td>False</td>\n",
       "      <td>199</td>\n",
       "      <td>193</td>\n",
       "      <td>197</td>\n",
       "      <td>196.6</td>\n",
       "      <td>Зараховано</td>\n",
       "    </tr>\n",
       "    <tr>\n",
       "      <th>...</th>\n",
       "      <td>...</td>\n",
       "      <td>...</td>\n",
       "      <td>...</td>\n",
       "      <td>...</td>\n",
       "      <td>...</td>\n",
       "      <td>...</td>\n",
       "      <td>...</td>\n",
       "    </tr>\n",
       "    <tr>\n",
       "      <th>7262</th>\n",
       "      <td>Євген Григоренко</td>\n",
       "      <td>False</td>\n",
       "      <td>110</td>\n",
       "      <td>101</td>\n",
       "      <td>100</td>\n",
       "      <td>104.3</td>\n",
       "      <td>Незараховано</td>\n",
       "    </tr>\n",
       "    <tr>\n",
       "      <th>6984</th>\n",
       "      <td>Ніна Карпенко</td>\n",
       "      <td>False</td>\n",
       "      <td>103</td>\n",
       "      <td>102</td>\n",
       "      <td>107</td>\n",
       "      <td>103.9</td>\n",
       "      <td>Незараховано</td>\n",
       "    </tr>\n",
       "    <tr>\n",
       "      <th>5032</th>\n",
       "      <td>Владислав Козак</td>\n",
       "      <td>True</td>\n",
       "      <td>102</td>\n",
       "      <td>101</td>\n",
       "      <td>108</td>\n",
       "      <td>103.5</td>\n",
       "      <td>Незараховано</td>\n",
       "    </tr>\n",
       "    <tr>\n",
       "      <th>6849</th>\n",
       "      <td>Руслан Кузьменко</td>\n",
       "      <td>False</td>\n",
       "      <td>100</td>\n",
       "      <td>102</td>\n",
       "      <td>108</td>\n",
       "      <td>103.0</td>\n",
       "      <td>Незараховано</td>\n",
       "    </tr>\n",
       "    <tr>\n",
       "      <th>3482</th>\n",
       "      <td>Валентин Коваль</td>\n",
       "      <td>True</td>\n",
       "      <td>101</td>\n",
       "      <td>102</td>\n",
       "      <td>101</td>\n",
       "      <td>101.3</td>\n",
       "      <td>Незараховано</td>\n",
       "    </tr>\n",
       "  </tbody>\n",
       "</table>\n",
       "<p>15000 rows × 7 columns</p>\n",
       "</div>"
      ],
      "text/plain": [
       "            Ім'я Прізвище  Пільга  Бал з математики  Бал з англійської  \\\n",
       "9999   Анастасія Ткаченко   False               200                200   \n",
       "10107     Аліна Симоненко    True               200                198   \n",
       "1866        Аліна Сидоров   False               197                196   \n",
       "10389     Максим Савченко   False               200                200   \n",
       "7271     Дарина Кравченко   False               199                193   \n",
       "...                   ...     ...               ...                ...   \n",
       "7262     Євген Григоренко   False               110                101   \n",
       "6984        Ніна Карпенко   False               103                102   \n",
       "5032      Владислав Козак    True               102                101   \n",
       "6849     Руслан Кузьменко   False               100                102   \n",
       "3482      Валентин Коваль    True               101                102   \n",
       "\n",
       "       Бал з української  Рейтинг       Рішення  \n",
       "9999                 193    197.9    Зараховано  \n",
       "10107                193    197.3    Зараховано  \n",
       "1866                 199    197.3    Зараховано  \n",
       "10389                190    197.0    Зараховано  \n",
       "7271                 197    196.6    Зараховано  \n",
       "...                  ...      ...           ...  \n",
       "7262                 100    104.3  Незараховано  \n",
       "6984                 107    103.9  Незараховано  \n",
       "5032                 108    103.5  Незараховано  \n",
       "6849                 108    103.0  Незараховано  \n",
       "3482                 101    101.3  Незараховано  \n",
       "\n",
       "[15000 rows x 7 columns]"
      ]
     },
     "execution_count": 7,
     "metadata": {},
     "output_type": "execute_result"
    }
   ],
   "source": [
    "df = prepare_dataframe(3500, 15000)\n",
    "df"
   ]
  },
  {
   "cell_type": "code",
   "execution_count": 8,
   "id": "d97caa9f",
   "metadata": {},
   "outputs": [
    {
     "data": {
      "text/html": [
       "<div>\n",
       "<style scoped>\n",
       "    .dataframe tbody tr th:only-of-type {\n",
       "        vertical-align: middle;\n",
       "    }\n",
       "\n",
       "    .dataframe tbody tr th {\n",
       "        vertical-align: top;\n",
       "    }\n",
       "\n",
       "    .dataframe thead th {\n",
       "        text-align: right;\n",
       "    }\n",
       "</style>\n",
       "<table border=\"1\" class=\"dataframe\">\n",
       "  <thead>\n",
       "    <tr style=\"text-align: right;\">\n",
       "      <th></th>\n",
       "      <th>Ім'я Прізвище</th>\n",
       "      <th>Пільга</th>\n",
       "      <th>Бал з математики</th>\n",
       "      <th>Бал з англійської</th>\n",
       "      <th>Бал з української</th>\n",
       "      <th>Рейтинг</th>\n",
       "      <th>Рішення</th>\n",
       "    </tr>\n",
       "  </thead>\n",
       "  <tbody>\n",
       "    <tr>\n",
       "      <th>9999</th>\n",
       "      <td>Анастасія Ткаченко</td>\n",
       "      <td>False</td>\n",
       "      <td>200</td>\n",
       "      <td>200</td>\n",
       "      <td>193</td>\n",
       "      <td>197.9</td>\n",
       "      <td>Зараховано</td>\n",
       "    </tr>\n",
       "    <tr>\n",
       "      <th>10107</th>\n",
       "      <td>Аліна Симоненко</td>\n",
       "      <td>True</td>\n",
       "      <td>200</td>\n",
       "      <td>198</td>\n",
       "      <td>193</td>\n",
       "      <td>197.3</td>\n",
       "      <td>Зараховано</td>\n",
       "    </tr>\n",
       "    <tr>\n",
       "      <th>1866</th>\n",
       "      <td>Аліна Сидоров</td>\n",
       "      <td>False</td>\n",
       "      <td>197</td>\n",
       "      <td>196</td>\n",
       "      <td>199</td>\n",
       "      <td>197.3</td>\n",
       "      <td>Зараховано</td>\n",
       "    </tr>\n",
       "    <tr>\n",
       "      <th>10389</th>\n",
       "      <td>Максим Савченко</td>\n",
       "      <td>False</td>\n",
       "      <td>200</td>\n",
       "      <td>200</td>\n",
       "      <td>190</td>\n",
       "      <td>197.0</td>\n",
       "      <td>Зараховано</td>\n",
       "    </tr>\n",
       "    <tr>\n",
       "      <th>7271</th>\n",
       "      <td>Дарина Кравченко</td>\n",
       "      <td>False</td>\n",
       "      <td>199</td>\n",
       "      <td>193</td>\n",
       "      <td>197</td>\n",
       "      <td>196.6</td>\n",
       "      <td>Зараховано</td>\n",
       "    </tr>\n",
       "  </tbody>\n",
       "</table>\n",
       "</div>"
      ],
      "text/plain": [
       "            Ім'я Прізвище  Пільга  Бал з математики  Бал з англійської  \\\n",
       "9999   Анастасія Ткаченко   False               200                200   \n",
       "10107     Аліна Симоненко    True               200                198   \n",
       "1866        Аліна Сидоров   False               197                196   \n",
       "10389     Максим Савченко   False               200                200   \n",
       "7271     Дарина Кравченко   False               199                193   \n",
       "\n",
       "       Бал з української  Рейтинг     Рішення  \n",
       "9999                 193    197.9  Зараховано  \n",
       "10107                193    197.3  Зараховано  \n",
       "1866                 199    197.3  Зараховано  \n",
       "10389                190    197.0  Зараховано  \n",
       "7271                 197    196.6  Зараховано  "
      ]
     },
     "execution_count": 8,
     "metadata": {},
     "output_type": "execute_result"
    }
   ],
   "source": [
    "df.head()"
   ]
  },
  {
   "cell_type": "code",
   "execution_count": 9,
   "id": "c5623e95",
   "metadata": {},
   "outputs": [],
   "source": [
    "df.sort_values(by='Рейтинг', ascending=False, inplace=True)"
   ]
  },
  {
   "cell_type": "code",
   "execution_count": 10,
   "id": "83b995e2",
   "metadata": {},
   "outputs": [
    {
     "data": {
      "text/html": [
       "<div>\n",
       "<style scoped>\n",
       "    .dataframe tbody tr th:only-of-type {\n",
       "        vertical-align: middle;\n",
       "    }\n",
       "\n",
       "    .dataframe tbody tr th {\n",
       "        vertical-align: top;\n",
       "    }\n",
       "\n",
       "    .dataframe thead th {\n",
       "        text-align: right;\n",
       "    }\n",
       "</style>\n",
       "<table border=\"1\" class=\"dataframe\">\n",
       "  <thead>\n",
       "    <tr style=\"text-align: right;\">\n",
       "      <th></th>\n",
       "      <th>Ім'я Прізвище</th>\n",
       "      <th>Пільга</th>\n",
       "      <th>Бал з математики</th>\n",
       "      <th>Бал з англійської</th>\n",
       "      <th>Бал з української</th>\n",
       "      <th>Рейтинг</th>\n",
       "      <th>Рішення</th>\n",
       "    </tr>\n",
       "  </thead>\n",
       "  <tbody>\n",
       "    <tr>\n",
       "      <th>9999</th>\n",
       "      <td>Анастасія Ткаченко</td>\n",
       "      <td>False</td>\n",
       "      <td>200</td>\n",
       "      <td>200</td>\n",
       "      <td>193</td>\n",
       "      <td>197.9</td>\n",
       "      <td>Зараховано</td>\n",
       "    </tr>\n",
       "    <tr>\n",
       "      <th>1866</th>\n",
       "      <td>Аліна Сидоров</td>\n",
       "      <td>False</td>\n",
       "      <td>197</td>\n",
       "      <td>196</td>\n",
       "      <td>199</td>\n",
       "      <td>197.3</td>\n",
       "      <td>Зараховано</td>\n",
       "    </tr>\n",
       "    <tr>\n",
       "      <th>10107</th>\n",
       "      <td>Аліна Симоненко</td>\n",
       "      <td>True</td>\n",
       "      <td>200</td>\n",
       "      <td>198</td>\n",
       "      <td>193</td>\n",
       "      <td>197.3</td>\n",
       "      <td>Зараховано</td>\n",
       "    </tr>\n",
       "    <tr>\n",
       "      <th>10389</th>\n",
       "      <td>Максим Савченко</td>\n",
       "      <td>False</td>\n",
       "      <td>200</td>\n",
       "      <td>200</td>\n",
       "      <td>190</td>\n",
       "      <td>197.0</td>\n",
       "      <td>Зараховано</td>\n",
       "    </tr>\n",
       "    <tr>\n",
       "      <th>7271</th>\n",
       "      <td>Дарина Кравченко</td>\n",
       "      <td>False</td>\n",
       "      <td>199</td>\n",
       "      <td>193</td>\n",
       "      <td>197</td>\n",
       "      <td>196.6</td>\n",
       "      <td>Зараховано</td>\n",
       "    </tr>\n",
       "  </tbody>\n",
       "</table>\n",
       "</div>"
      ],
      "text/plain": [
       "            Ім'я Прізвище  Пільга  Бал з математики  Бал з англійської  \\\n",
       "9999   Анастасія Ткаченко   False               200                200   \n",
       "1866        Аліна Сидоров   False               197                196   \n",
       "10107     Аліна Симоненко    True               200                198   \n",
       "10389     Максим Савченко   False               200                200   \n",
       "7271     Дарина Кравченко   False               199                193   \n",
       "\n",
       "       Бал з української  Рейтинг     Рішення  \n",
       "9999                 193    197.9  Зараховано  \n",
       "1866                 199    197.3  Зараховано  \n",
       "10107                193    197.3  Зараховано  \n",
       "10389                190    197.0  Зараховано  \n",
       "7271                 197    196.6  Зараховано  "
      ]
     },
     "execution_count": 10,
     "metadata": {},
     "output_type": "execute_result"
    }
   ],
   "source": [
    "df.head()"
   ]
  },
  {
   "cell_type": "markdown",
   "id": "88a29437",
   "metadata": {},
   "source": [
    "Переглянемо загальний розподіл пільгових/не пільгових"
   ]
  },
  {
   "cell_type": "code",
   "execution_count": 11,
   "id": "d0d0d7ab",
   "metadata": {},
   "outputs": [
    {
     "data": {
      "text/plain": [
       "Пільга\n",
       "False    11987\n",
       "True      3013\n",
       "Name: count, dtype: int64"
      ]
     },
     "execution_count": 11,
     "metadata": {},
     "output_type": "execute_result"
    }
   ],
   "source": [
    "df['Пільга'].value_counts()"
   ]
  },
  {
   "cell_type": "code",
   "execution_count": 12,
   "id": "0506d060",
   "metadata": {},
   "outputs": [
    {
     "data": {
      "text/html": [
       "<div>\n",
       "<style scoped>\n",
       "    .dataframe tbody tr th:only-of-type {\n",
       "        vertical-align: middle;\n",
       "    }\n",
       "\n",
       "    .dataframe tbody tr th {\n",
       "        vertical-align: top;\n",
       "    }\n",
       "\n",
       "    .dataframe thead th {\n",
       "        text-align: right;\n",
       "    }\n",
       "</style>\n",
       "<table border=\"1\" class=\"dataframe\">\n",
       "  <thead>\n",
       "    <tr style=\"text-align: right;\">\n",
       "      <th></th>\n",
       "      <th>Ім'я Прізвище</th>\n",
       "      <th>Пільга</th>\n",
       "      <th>Бал з математики</th>\n",
       "      <th>Бал з англійської</th>\n",
       "      <th>Бал з української</th>\n",
       "      <th>Рейтинг</th>\n",
       "      <th>Рішення</th>\n",
       "    </tr>\n",
       "  </thead>\n",
       "  <tbody>\n",
       "    <tr>\n",
       "      <th>9999</th>\n",
       "      <td>Анастасія Ткаченко</td>\n",
       "      <td>False</td>\n",
       "      <td>200</td>\n",
       "      <td>200</td>\n",
       "      <td>193</td>\n",
       "      <td>197.9</td>\n",
       "      <td>Зараховано</td>\n",
       "    </tr>\n",
       "    <tr>\n",
       "      <th>1866</th>\n",
       "      <td>Аліна Сидоров</td>\n",
       "      <td>False</td>\n",
       "      <td>197</td>\n",
       "      <td>196</td>\n",
       "      <td>199</td>\n",
       "      <td>197.3</td>\n",
       "      <td>Зараховано</td>\n",
       "    </tr>\n",
       "    <tr>\n",
       "      <th>10107</th>\n",
       "      <td>Аліна Симоненко</td>\n",
       "      <td>True</td>\n",
       "      <td>200</td>\n",
       "      <td>198</td>\n",
       "      <td>193</td>\n",
       "      <td>197.3</td>\n",
       "      <td>Зараховано</td>\n",
       "    </tr>\n",
       "    <tr>\n",
       "      <th>10389</th>\n",
       "      <td>Максим Савченко</td>\n",
       "      <td>False</td>\n",
       "      <td>200</td>\n",
       "      <td>200</td>\n",
       "      <td>190</td>\n",
       "      <td>197.0</td>\n",
       "      <td>Зараховано</td>\n",
       "    </tr>\n",
       "    <tr>\n",
       "      <th>7271</th>\n",
       "      <td>Дарина Кравченко</td>\n",
       "      <td>False</td>\n",
       "      <td>199</td>\n",
       "      <td>193</td>\n",
       "      <td>197</td>\n",
       "      <td>196.6</td>\n",
       "      <td>Зараховано</td>\n",
       "    </tr>\n",
       "    <tr>\n",
       "      <th>...</th>\n",
       "      <td>...</td>\n",
       "      <td>...</td>\n",
       "      <td>...</td>\n",
       "      <td>...</td>\n",
       "      <td>...</td>\n",
       "      <td>...</td>\n",
       "      <td>...</td>\n",
       "    </tr>\n",
       "    <tr>\n",
       "      <th>13852</th>\n",
       "      <td>Ірина Марченко</td>\n",
       "      <td>False</td>\n",
       "      <td>155</td>\n",
       "      <td>144</td>\n",
       "      <td>184</td>\n",
       "      <td>160.4</td>\n",
       "      <td>Зараховано</td>\n",
       "    </tr>\n",
       "    <tr>\n",
       "      <th>11893</th>\n",
       "      <td>Ігор Ковальчук</td>\n",
       "      <td>False</td>\n",
       "      <td>176</td>\n",
       "      <td>196</td>\n",
       "      <td>104</td>\n",
       "      <td>160.4</td>\n",
       "      <td>Зараховано</td>\n",
       "    </tr>\n",
       "    <tr>\n",
       "      <th>2047</th>\n",
       "      <td>Віктор Приходько</td>\n",
       "      <td>False</td>\n",
       "      <td>182</td>\n",
       "      <td>128</td>\n",
       "      <td>164</td>\n",
       "      <td>160.4</td>\n",
       "      <td>Зараховано</td>\n",
       "    </tr>\n",
       "    <tr>\n",
       "      <th>10027</th>\n",
       "      <td>Віктор Григоренко</td>\n",
       "      <td>False</td>\n",
       "      <td>151</td>\n",
       "      <td>195</td>\n",
       "      <td>138</td>\n",
       "      <td>160.3</td>\n",
       "      <td>Зараховано</td>\n",
       "    </tr>\n",
       "    <tr>\n",
       "      <th>176</th>\n",
       "      <td>Ольга Ковальчук</td>\n",
       "      <td>False</td>\n",
       "      <td>175</td>\n",
       "      <td>121</td>\n",
       "      <td>180</td>\n",
       "      <td>160.3</td>\n",
       "      <td>Зараховано</td>\n",
       "    </tr>\n",
       "  </tbody>\n",
       "</table>\n",
       "<p>3500 rows × 7 columns</p>\n",
       "</div>"
      ],
      "text/plain": [
       "            Ім'я Прізвище  Пільга  Бал з математики  Бал з англійської  \\\n",
       "9999   Анастасія Ткаченко   False               200                200   \n",
       "1866        Аліна Сидоров   False               197                196   \n",
       "10107     Аліна Симоненко    True               200                198   \n",
       "10389     Максим Савченко   False               200                200   \n",
       "7271     Дарина Кравченко   False               199                193   \n",
       "...                   ...     ...               ...                ...   \n",
       "13852      Ірина Марченко   False               155                144   \n",
       "11893      Ігор Ковальчук   False               176                196   \n",
       "2047     Віктор Приходько   False               182                128   \n",
       "10027   Віктор Григоренко   False               151                195   \n",
       "176       Ольга Ковальчук   False               175                121   \n",
       "\n",
       "       Бал з української  Рейтинг     Рішення  \n",
       "9999                 193    197.9  Зараховано  \n",
       "1866                 199    197.3  Зараховано  \n",
       "10107                193    197.3  Зараховано  \n",
       "10389                190    197.0  Зараховано  \n",
       "7271                 197    196.6  Зараховано  \n",
       "...                  ...      ...         ...  \n",
       "13852                184    160.4  Зараховано  \n",
       "11893                104    160.4  Зараховано  \n",
       "2047                 164    160.4  Зараховано  \n",
       "10027                138    160.3  Зараховано  \n",
       "176                  180    160.3  Зараховано  \n",
       "\n",
       "[3500 rows x 7 columns]"
      ]
     },
     "execution_count": 12,
     "metadata": {},
     "output_type": "execute_result"
    }
   ],
   "source": [
    "df[df['Рішення'] == 'Зараховано']"
   ]
  },
  {
   "cell_type": "code",
   "execution_count": 13,
   "id": "43e9db13",
   "metadata": {},
   "outputs": [],
   "source": [
    "df.to_csv('Generated_data.csv', index=False, columns = columns)"
   ]
  },
  {
   "cell_type": "code",
   "execution_count": 14,
   "id": "914b9435",
   "metadata": {},
   "outputs": [
    {
     "name": "stdout",
     "output_type": "stream",
     "text": [
      "<class 'pandas.core.frame.DataFrame'>\n",
      "Index: 15000 entries, 9999 to 3482\n",
      "Data columns (total 7 columns):\n",
      " #   Column             Non-Null Count  Dtype  \n",
      "---  ------             --------------  -----  \n",
      " 0   Ім'я Прізвище      15000 non-null  object \n",
      " 1   Пільга             15000 non-null  bool   \n",
      " 2   Бал з математики   15000 non-null  int64  \n",
      " 3   Бал з англійської  15000 non-null  int64  \n",
      " 4   Бал з української  15000 non-null  int64  \n",
      " 5   Рейтинг            15000 non-null  float64\n",
      " 6   Рішення            15000 non-null  object \n",
      "dtypes: bool(1), float64(1), int64(3), object(2)\n",
      "memory usage: 835.0+ KB\n"
     ]
    }
   ],
   "source": [
    "df.info()"
   ]
  },
  {
   "cell_type": "markdown",
   "id": "a8054f8d",
   "metadata": {},
   "source": [
    "# Створення, навчання, адаптація та аналіз ефективності мережі"
   ]
  },
  {
   "cell_type": "code",
   "execution_count": 15,
   "id": "e912aa26",
   "metadata": {},
   "outputs": [
    {
     "name": "stdout",
     "output_type": "stream",
     "text": [
      "Розмірність тренувального набору: (13500, 5) (13500,)\n",
      "Розмірність тестового набору: (1500, 5) (1500,)\n"
     ]
    }
   ],
   "source": [
    "from sklearn.model_selection import train_test_split\n",
    "\n",
    "X = df.drop(columns=['Рішення',\"Ім'я Прізвище\"])\n",
    "y = df['Рішення'] \n",
    "y = y.replace({'Зараховано': 1, 'Незараховано': 0})\n",
    "\n",
    "X.astype(float)\n",
    "y.astype(float)\n",
    "\n",
    "\n",
    "X_train, X_test, y_train, y_test = train_test_split(X, y, test_size=0.1, random_state=1)\n",
    "\n",
    "print(\"Розмірність тренувального набору:\", X_train.shape, y_train.shape)\n",
    "print(\"Розмірність тестового набору:\", X_test.shape, y_test.shape)"
   ]
  },
  {
   "cell_type": "code",
   "execution_count": 16,
   "id": "18f8d3b0",
   "metadata": {},
   "outputs": [],
   "source": [
    "from keras.models import Sequential\n",
    "from keras.layers import Dense, Conv1D, MaxPooling1D, Flatten\n",
    "from tensorflow.keras import models, layers"
   ]
  },
  {
   "cell_type": "markdown",
   "id": "e064d2c7",
   "metadata": {},
   "source": [
    "Було досліджено нейронні мережі з різною архітектурою. Зокрема були проведені експерименти з різної кількістю прихованих шарів так кількісю фільтрів у них. Також було досліджено різні функції активації"
   ]
  },
  {
   "cell_type": "code",
   "execution_count": 17,
   "id": "126e29c9",
   "metadata": {},
   "outputs": [
    {
     "name": "stderr",
     "output_type": "stream",
     "text": [
      "D:\\anaconda_jup\\Lib\\site-packages\\keras\\src\\layers\\convolutional\\base_conv.py:107: UserWarning: Do not pass an `input_shape`/`input_dim` argument to a layer. When using Sequential models, prefer using an `Input(shape)` object as the first layer in the model instead.\n",
      "  super().__init__(activity_regularizer=activity_regularizer, **kwargs)\n"
     ]
    }
   ],
   "source": [
    "CNN = models.Sequential([\n",
    "    layers.Conv1D(filters=32, kernel_size=2, activation='relu', input_shape=(X_train.shape[1], 1)),\n",
    "    layers.MaxPooling1D(1),\n",
    "    \n",
    "    layers.Conv1D(filters=64, kernel_size=2, activation='relu'),\n",
    "    layers.MaxPooling1D(3),\n",
    "    \n",
    "    layers.Flatten(),\n",
    "    \n",
    "    layers.Dense(units=64, activation='relu'),\n",
    "    layers.Dense(units=1, activation='sigmoid') # sigmoid\n",
    "])\n"
   ]
  },
  {
   "cell_type": "code",
   "execution_count": 18,
   "id": "40778aa3",
   "metadata": {},
   "outputs": [],
   "source": [
    "CNN.compile(optimizer='adam', \n",
    "            loss='binary_crossentropy', \n",
    "            metrics=['accuracy'])"
   ]
  },
  {
   "cell_type": "code",
   "execution_count": 19,
   "id": "a72cb67a",
   "metadata": {},
   "outputs": [
    {
     "name": "stdout",
     "output_type": "stream",
     "text": [
      "Epoch 1/55\n",
      "\u001b[1m270/270\u001b[0m \u001b[32m━━━━━━━━━━━━━━━━━━━━\u001b[0m\u001b[37m\u001b[0m \u001b[1m3s\u001b[0m 5ms/step - accuracy: 0.7180 - loss: 0.7888\n",
      "Epoch 2/55\n",
      "\u001b[1m270/270\u001b[0m \u001b[32m━━━━━━━━━━━━━━━━━━━━\u001b[0m\u001b[37m\u001b[0m \u001b[1m1s\u001b[0m 4ms/step - accuracy: 0.7293 - loss: 0.5515\n",
      "Epoch 3/55\n",
      "\u001b[1m270/270\u001b[0m \u001b[32m━━━━━━━━━━━━━━━━━━━━\u001b[0m\u001b[37m\u001b[0m \u001b[1m0s\u001b[0m 2ms/step - accuracy: 0.7570 - loss: 0.4753\n",
      "Epoch 4/55\n",
      "\u001b[1m270/270\u001b[0m \u001b[32m━━━━━━━━━━━━━━━━━━━━\u001b[0m\u001b[37m\u001b[0m \u001b[1m1s\u001b[0m 2ms/step - accuracy: 0.7786 - loss: 0.4399\n",
      "Epoch 5/55\n",
      "\u001b[1m270/270\u001b[0m \u001b[32m━━━━━━━━━━━━━━━━━━━━\u001b[0m\u001b[37m\u001b[0m \u001b[1m0s\u001b[0m 2ms/step - accuracy: 0.7899 - loss: 0.4210\n",
      "Epoch 6/55\n",
      "\u001b[1m270/270\u001b[0m \u001b[32m━━━━━━━━━━━━━━━━━━━━\u001b[0m\u001b[37m\u001b[0m \u001b[1m2s\u001b[0m 6ms/step - accuracy: 0.7845 - loss: 0.4266\n",
      "Epoch 7/55\n",
      "\u001b[1m270/270\u001b[0m \u001b[32m━━━━━━━━━━━━━━━━━━━━\u001b[0m\u001b[37m\u001b[0m \u001b[1m2s\u001b[0m 6ms/step - accuracy: 0.8070 - loss: 0.3953\n",
      "Epoch 8/55\n",
      "\u001b[1m270/270\u001b[0m \u001b[32m━━━━━━━━━━━━━━━━━━━━\u001b[0m\u001b[37m\u001b[0m \u001b[1m2s\u001b[0m 6ms/step - accuracy: 0.8278 - loss: 0.3665\n",
      "Epoch 9/55\n",
      "\u001b[1m270/270\u001b[0m \u001b[32m━━━━━━━━━━━━━━━━━━━━\u001b[0m\u001b[37m\u001b[0m \u001b[1m1s\u001b[0m 4ms/step - accuracy: 0.8478 - loss: 0.3367\n",
      "Epoch 10/55\n",
      "\u001b[1m270/270\u001b[0m \u001b[32m━━━━━━━━━━━━━━━━━━━━\u001b[0m\u001b[37m\u001b[0m \u001b[1m1s\u001b[0m 2ms/step - accuracy: 0.8457 - loss: 0.3402\n",
      "Epoch 11/55\n",
      "\u001b[1m270/270\u001b[0m \u001b[32m━━━━━━━━━━━━━━━━━━━━\u001b[0m\u001b[37m\u001b[0m \u001b[1m1s\u001b[0m 4ms/step - accuracy: 0.8780 - loss: 0.2950\n",
      "Epoch 12/55\n",
      "\u001b[1m270/270\u001b[0m \u001b[32m━━━━━━━━━━━━━━━━━━━━\u001b[0m\u001b[37m\u001b[0m \u001b[1m2s\u001b[0m 6ms/step - accuracy: 0.8723 - loss: 0.2924\n",
      "Epoch 13/55\n",
      "\u001b[1m270/270\u001b[0m \u001b[32m━━━━━━━━━━━━━━━━━━━━\u001b[0m\u001b[37m\u001b[0m \u001b[1m2s\u001b[0m 5ms/step - accuracy: 0.8805 - loss: 0.2705\n",
      "Epoch 14/55\n",
      "\u001b[1m270/270\u001b[0m \u001b[32m━━━━━━━━━━━━━━━━━━━━\u001b[0m\u001b[37m\u001b[0m \u001b[1m2s\u001b[0m 6ms/step - accuracy: 0.8843 - loss: 0.2577\n",
      "Epoch 15/55\n",
      "\u001b[1m270/270\u001b[0m \u001b[32m━━━━━━━━━━━━━━━━━━━━\u001b[0m\u001b[37m\u001b[0m \u001b[1m1s\u001b[0m 2ms/step - accuracy: 0.9047 - loss: 0.2277\n",
      "Epoch 16/55\n",
      "\u001b[1m270/270\u001b[0m \u001b[32m━━━━━━━━━━━━━━━━━━━━\u001b[0m\u001b[37m\u001b[0m \u001b[1m1s\u001b[0m 2ms/step - accuracy: 0.9107 - loss: 0.2094\n",
      "Epoch 17/55\n",
      "\u001b[1m270/270\u001b[0m \u001b[32m━━━━━━━━━━━━━━━━━━━━\u001b[0m\u001b[37m\u001b[0m \u001b[1m1s\u001b[0m 3ms/step - accuracy: 0.9314 - loss: 0.1787\n",
      "Epoch 18/55\n",
      "\u001b[1m270/270\u001b[0m \u001b[32m━━━━━━━━━━━━━━━━━━━━\u001b[0m\u001b[37m\u001b[0m \u001b[1m1s\u001b[0m 2ms/step - accuracy: 0.9220 - loss: 0.1880\n",
      "Epoch 19/55\n",
      "\u001b[1m270/270\u001b[0m \u001b[32m━━━━━━━━━━━━━━━━━━━━\u001b[0m\u001b[37m\u001b[0m \u001b[1m1s\u001b[0m 2ms/step - accuracy: 0.9427 - loss: 0.1481\n",
      "Epoch 20/55\n",
      "\u001b[1m270/270\u001b[0m \u001b[32m━━━━━━━━━━━━━━━━━━━━\u001b[0m\u001b[37m\u001b[0m \u001b[1m1s\u001b[0m 2ms/step - accuracy: 0.9362 - loss: 0.1587\n",
      "Epoch 21/55\n",
      "\u001b[1m270/270\u001b[0m \u001b[32m━━━━━━━━━━━━━━━━━━━━\u001b[0m\u001b[37m\u001b[0m \u001b[1m1s\u001b[0m 2ms/step - accuracy: 0.9463 - loss: 0.1351\n",
      "Epoch 22/55\n",
      "\u001b[1m270/270\u001b[0m \u001b[32m━━━━━━━━━━━━━━━━━━━━\u001b[0m\u001b[37m\u001b[0m \u001b[1m1s\u001b[0m 4ms/step - accuracy: 0.9377 - loss: 0.1405\n",
      "Epoch 23/55\n",
      "\u001b[1m270/270\u001b[0m \u001b[32m━━━━━━━━━━━━━━━━━━━━\u001b[0m\u001b[37m\u001b[0m \u001b[1m1s\u001b[0m 2ms/step - accuracy: 0.9434 - loss: 0.1327\n",
      "Epoch 24/55\n",
      "\u001b[1m270/270\u001b[0m \u001b[32m━━━━━━━━━━━━━━━━━━━━\u001b[0m\u001b[37m\u001b[0m \u001b[1m1s\u001b[0m 2ms/step - accuracy: 0.9312 - loss: 0.1504\n",
      "Epoch 25/55\n",
      "\u001b[1m270/270\u001b[0m \u001b[32m━━━━━━━━━━━━━━━━━━━━\u001b[0m\u001b[37m\u001b[0m \u001b[1m1s\u001b[0m 4ms/step - accuracy: 0.9569 - loss: 0.1109\n",
      "Epoch 26/55\n",
      "\u001b[1m270/270\u001b[0m \u001b[32m━━━━━━━━━━━━━━━━━━━━\u001b[0m\u001b[37m\u001b[0m \u001b[1m1s\u001b[0m 2ms/step - accuracy: 0.9534 - loss: 0.1104\n",
      "Epoch 27/55\n",
      "\u001b[1m270/270\u001b[0m \u001b[32m━━━━━━━━━━━━━━━━━━━━\u001b[0m\u001b[37m\u001b[0m \u001b[1m1s\u001b[0m 4ms/step - accuracy: 0.9544 - loss: 0.1054\n",
      "Epoch 28/55\n",
      "\u001b[1m270/270\u001b[0m \u001b[32m━━━━━━━━━━━━━━━━━━━━\u001b[0m\u001b[37m\u001b[0m \u001b[1m1s\u001b[0m 2ms/step - accuracy: 0.9445 - loss: 0.1290\n",
      "Epoch 29/55\n",
      "\u001b[1m270/270\u001b[0m \u001b[32m━━━━━━━━━━━━━━━━━━━━\u001b[0m\u001b[37m\u001b[0m \u001b[1m1s\u001b[0m 5ms/step - accuracy: 0.9547 - loss: 0.1054\n",
      "Epoch 30/55\n",
      "\u001b[1m270/270\u001b[0m \u001b[32m━━━━━━━━━━━━━━━━━━━━\u001b[0m\u001b[37m\u001b[0m \u001b[1m1s\u001b[0m 5ms/step - accuracy: 0.9437 - loss: 0.1253\n",
      "Epoch 31/55\n",
      "\u001b[1m270/270\u001b[0m \u001b[32m━━━━━━━━━━━━━━━━━━━━\u001b[0m\u001b[37m\u001b[0m \u001b[1m1s\u001b[0m 3ms/step - accuracy: 0.9566 - loss: 0.1021\n",
      "Epoch 32/55\n",
      "\u001b[1m270/270\u001b[0m \u001b[32m━━━━━━━━━━━━━━━━━━━━\u001b[0m\u001b[37m\u001b[0m \u001b[1m1s\u001b[0m 5ms/step - accuracy: 0.9597 - loss: 0.1032\n",
      "Epoch 33/55\n",
      "\u001b[1m270/270\u001b[0m \u001b[32m━━━━━━━━━━━━━━━━━━━━\u001b[0m\u001b[37m\u001b[0m \u001b[1m1s\u001b[0m 2ms/step - accuracy: 0.9600 - loss: 0.0969\n",
      "Epoch 34/55\n",
      "\u001b[1m270/270\u001b[0m \u001b[32m━━━━━━━━━━━━━━━━━━━━\u001b[0m\u001b[37m\u001b[0m \u001b[1m1s\u001b[0m 4ms/step - accuracy: 0.9605 - loss: 0.0946\n",
      "Epoch 35/55\n",
      "\u001b[1m270/270\u001b[0m \u001b[32m━━━━━━━━━━━━━━━━━━━━\u001b[0m\u001b[37m\u001b[0m \u001b[1m1s\u001b[0m 3ms/step - accuracy: 0.9629 - loss: 0.0923\n",
      "Epoch 36/55\n",
      "\u001b[1m270/270\u001b[0m \u001b[32m━━━━━━━━━━━━━━━━━━━━\u001b[0m\u001b[37m\u001b[0m \u001b[1m1s\u001b[0m 4ms/step - accuracy: 0.9491 - loss: 0.1139\n",
      "Epoch 37/55\n",
      "\u001b[1m270/270\u001b[0m \u001b[32m━━━━━━━━━━━━━━━━━━━━\u001b[0m\u001b[37m\u001b[0m \u001b[1m1s\u001b[0m 2ms/step - accuracy: 0.9563 - loss: 0.1022\n",
      "Epoch 38/55\n",
      "\u001b[1m270/270\u001b[0m \u001b[32m━━━━━━━━━━━━━━━━━━━━\u001b[0m\u001b[37m\u001b[0m \u001b[1m2s\u001b[0m 6ms/step - accuracy: 0.9633 - loss: 0.0855\n",
      "Epoch 39/55\n",
      "\u001b[1m270/270\u001b[0m \u001b[32m━━━━━━━━━━━━━━━━━━━━\u001b[0m\u001b[37m\u001b[0m \u001b[1m2s\u001b[0m 6ms/step - accuracy: 0.9576 - loss: 0.0985\n",
      "Epoch 40/55\n",
      "\u001b[1m270/270\u001b[0m \u001b[32m━━━━━━━━━━━━━━━━━━━━\u001b[0m\u001b[37m\u001b[0m \u001b[1m2s\u001b[0m 6ms/step - accuracy: 0.9669 - loss: 0.0777\n",
      "Epoch 41/55\n",
      "\u001b[1m270/270\u001b[0m \u001b[32m━━━━━━━━━━━━━━━━━━━━\u001b[0m\u001b[37m\u001b[0m \u001b[1m1s\u001b[0m 5ms/step - accuracy: 0.9695 - loss: 0.0714\n",
      "Epoch 42/55\n",
      "\u001b[1m270/270\u001b[0m \u001b[32m━━━━━━━━━━━━━━━━━━━━\u001b[0m\u001b[37m\u001b[0m \u001b[1m2s\u001b[0m 6ms/step - accuracy: 0.9617 - loss: 0.0878\n",
      "Epoch 43/55\n",
      "\u001b[1m270/270\u001b[0m \u001b[32m━━━━━━━━━━━━━━━━━━━━\u001b[0m\u001b[37m\u001b[0m \u001b[1m2s\u001b[0m 5ms/step - accuracy: 0.9511 - loss: 0.1003\n",
      "Epoch 44/55\n",
      "\u001b[1m270/270\u001b[0m \u001b[32m━━━━━━━━━━━━━━━━━━━━\u001b[0m\u001b[37m\u001b[0m \u001b[1m2s\u001b[0m 5ms/step - accuracy: 0.9657 - loss: 0.0790\n",
      "Epoch 45/55\n",
      "\u001b[1m270/270\u001b[0m \u001b[32m━━━━━━━━━━━━━━━━━━━━\u001b[0m\u001b[37m\u001b[0m \u001b[1m1s\u001b[0m 5ms/step - accuracy: 0.9594 - loss: 0.0912\n",
      "Epoch 46/55\n",
      "\u001b[1m270/270\u001b[0m \u001b[32m━━━━━━━━━━━━━━━━━━━━\u001b[0m\u001b[37m\u001b[0m \u001b[1m1s\u001b[0m 4ms/step - accuracy: 0.9522 - loss: 0.1167\n",
      "Epoch 47/55\n",
      "\u001b[1m270/270\u001b[0m \u001b[32m━━━━━━━━━━━━━━━━━━━━\u001b[0m\u001b[37m\u001b[0m \u001b[1m1s\u001b[0m 3ms/step - accuracy: 0.9646 - loss: 0.0829\n",
      "Epoch 48/55\n",
      "\u001b[1m270/270\u001b[0m \u001b[32m━━━━━━━━━━━━━━━━━━━━\u001b[0m\u001b[37m\u001b[0m \u001b[1m1s\u001b[0m 3ms/step - accuracy: 0.9607 - loss: 0.0908\n",
      "Epoch 49/55\n",
      "\u001b[1m270/270\u001b[0m \u001b[32m━━━━━━━━━━━━━━━━━━━━\u001b[0m\u001b[37m\u001b[0m \u001b[1m0s\u001b[0m 2ms/step - accuracy: 0.9660 - loss: 0.0802\n",
      "Epoch 50/55\n",
      "\u001b[1m270/270\u001b[0m \u001b[32m━━━━━━━━━━━━━━━━━━━━\u001b[0m\u001b[37m\u001b[0m \u001b[1m1s\u001b[0m 5ms/step - accuracy: 0.9678 - loss: 0.0743\n",
      "Epoch 51/55\n",
      "\u001b[1m270/270\u001b[0m \u001b[32m━━━━━━━━━━━━━━━━━━━━\u001b[0m\u001b[37m\u001b[0m \u001b[1m2s\u001b[0m 5ms/step - accuracy: 0.9690 - loss: 0.0741\n",
      "Epoch 52/55\n",
      "\u001b[1m270/270\u001b[0m \u001b[32m━━━━━━━━━━━━━━━━━━━━\u001b[0m\u001b[37m\u001b[0m \u001b[1m1s\u001b[0m 5ms/step - accuracy: 0.9573 - loss: 0.1027\n",
      "Epoch 53/55\n",
      "\u001b[1m270/270\u001b[0m \u001b[32m━━━━━━━━━━━━━━━━━━━━\u001b[0m\u001b[37m\u001b[0m \u001b[1m1s\u001b[0m 5ms/step - accuracy: 0.9715 - loss: 0.0705\n",
      "Epoch 54/55\n",
      "\u001b[1m270/270\u001b[0m \u001b[32m━━━━━━━━━━━━━━━━━━━━\u001b[0m\u001b[37m\u001b[0m \u001b[1m1s\u001b[0m 4ms/step - accuracy: 0.9473 - loss: 0.1313\n",
      "Epoch 55/55\n",
      "\u001b[1m270/270\u001b[0m \u001b[32m━━━━━━━━━━━━━━━━━━━━\u001b[0m\u001b[37m\u001b[0m \u001b[1m1s\u001b[0m 4ms/step - accuracy: 0.9621 - loss: 0.0905\n"
     ]
    },
    {
     "data": {
      "text/plain": [
       "<keras.src.callbacks.history.History at 0x227c6c79790>"
      ]
     },
     "execution_count": 19,
     "metadata": {},
     "output_type": "execute_result"
    }
   ],
   "source": [
    "CNN.fit(X_train, y_train, epochs=55, batch_size=50)"
   ]
  },
  {
   "cell_type": "code",
   "execution_count": 20,
   "id": "e4bc896f",
   "metadata": {},
   "outputs": [
    {
     "name": "stdout",
     "output_type": "stream",
     "text": [
      "\u001b[1m47/47\u001b[0m \u001b[32m━━━━━━━━━━━━━━━━━━━━\u001b[0m\u001b[37m\u001b[0m \u001b[1m0s\u001b[0m 4ms/step - accuracy: 0.9839 - loss: 0.0496\n"
     ]
    }
   ],
   "source": [
    "test_loss, test_acc = CNN.evaluate(X_test, y_test)"
   ]
  },
  {
   "cell_type": "code",
   "execution_count": 21,
   "id": "b204428e",
   "metadata": {},
   "outputs": [
    {
     "name": "stdout",
     "output_type": "stream",
     "text": [
      "\u001b[1m47/47\u001b[0m \u001b[32m━━━━━━━━━━━━━━━━━━━━\u001b[0m\u001b[37m\u001b[0m \u001b[1m0s\u001b[0m 5ms/step\n",
      "              precision    recall  f1-score   support\n",
      "\n",
      "           0       0.99      0.99      0.99      1136\n",
      "           1       0.96      0.96      0.96       364\n",
      "\n",
      "    accuracy                           0.98      1500\n",
      "   macro avg       0.98      0.98      0.98      1500\n",
      "weighted avg       0.98      0.98      0.98      1500\n",
      "\n"
     ]
    }
   ],
   "source": [
    "from sklearn.metrics import classification_report\n",
    "\n",
    "y_pred = CNN.predict(X_test)\n",
    "y_pred_binary = (y_pred > 0.5).astype(int) \n",
    "\n",
    "print(classification_report(y_test.values, y_pred_binary))"
   ]
  },
  {
   "cell_type": "markdown",
   "id": "d5455214",
   "metadata": {},
   "source": [
    "Переглянемо розподіл серед зарахованих студентів зарахованих"
   ]
  },
  {
   "cell_type": "code",
   "execution_count": 22,
   "id": "49e6f737",
   "metadata": {},
   "outputs": [
    {
     "name": "stdout",
     "output_type": "stream",
     "text": [
      "Зараховано всього: 363\n",
      "Зараховано пільговиків: 40\n",
      "Зараховано НЕ пільговиків: 323\n"
     ]
    }
   ],
   "source": [
    "result_df = pd.DataFrame(X_test)\n",
    "result_df['Рішення'] = y_pred_binary\n",
    "\n",
    "print('Зараховано всього:', result_df[result_df['Рішення'] == 1].shape[0])\n",
    "print('Зараховано пільговиків:',result_df[(result_df['Пільга']) & (result_df['Рішення'])].shape[0]) \n",
    "print('Зараховано НЕ пільговиків:',result_df[(result_df['Пільга'] == 0.0) & (result_df['Рішення'])].shape[0])"
   ]
  },
  {
   "cell_type": "code",
   "execution_count": 23,
   "id": "49593958",
   "metadata": {
    "scrolled": true
   },
   "outputs": [
    {
     "name": "stdout",
     "output_type": "stream",
     "text": [
      "[[1123   13]\n",
      " [  14  350]]\n"
     ]
    }
   ],
   "source": [
    "from sklearn.metrics import confusion_matrix\n",
    "\n",
    "print(confusion_matrix(y_test.values, y_pred_binary))"
   ]
  },
  {
   "cell_type": "markdown",
   "id": "d600cc20",
   "metadata": {},
   "source": [
    "Створимо новий датасет з розмірністю 1500 і протестуємо на ньому роботу моделі."
   ]
  },
  {
   "cell_type": "code",
   "execution_count": 24,
   "id": "a45dda23",
   "metadata": {},
   "outputs": [
    {
     "name": "stdout",
     "output_type": "stream",
     "text": [
      "\u001b[1m47/47\u001b[0m \u001b[32m━━━━━━━━━━━━━━━━━━━━\u001b[0m\u001b[37m\u001b[0m \u001b[1m0s\u001b[0m 4ms/step\n"
     ]
    }
   ],
   "source": [
    "df = prepare_dataframe(350, 1500)\n",
    "\n",
    "original_indices = df.index  \n",
    "X = df.drop(columns=['Рішення', \"Ім'я Прізвище\"]).astype(float)\n",
    "y = df['Рішення'].replace({'Зараховано': 1, 'Незараховано': 0}).astype(float)\n",
    "\n",
    "y_pred = CNN.predict(X)\n",
    "y_pred_binary = (y_pred > 0.5).astype(int) \n",
    "y_pred_binary = y_pred_binary.flatten()\n",
    "\n",
    "predictions_df = pd.DataFrame({'Рішення': y_pred_binary}, index=original_indices)\n",
    "predictions_df['Рішення'] = predictions_df['Рішення'].replace({0: 'Незараховано', 1: 'Зараховано'})\n",
    "result_df = pd.concat([df[[\"Ім'я Прізвище\"]], X, predictions_df], axis=1)"
   ]
  },
  {
   "cell_type": "code",
   "execution_count": 25,
   "id": "de3a1083",
   "metadata": {},
   "outputs": [
    {
     "name": "stdout",
     "output_type": "stream",
     "text": [
      "[[1129   21]\n",
      " [   6  344]]\n"
     ]
    }
   ],
   "source": [
    "print(confusion_matrix(y.values, y_pred_binary))"
   ]
  },
  {
   "cell_type": "code",
   "execution_count": 26,
   "id": "754697ba",
   "metadata": {
    "scrolled": false
   },
   "outputs": [
    {
     "data": {
      "text/html": [
       "<div>\n",
       "<style scoped>\n",
       "    .dataframe tbody tr th:only-of-type {\n",
       "        vertical-align: middle;\n",
       "    }\n",
       "\n",
       "    .dataframe tbody tr th {\n",
       "        vertical-align: top;\n",
       "    }\n",
       "\n",
       "    .dataframe thead th {\n",
       "        text-align: right;\n",
       "    }\n",
       "</style>\n",
       "<table border=\"1\" class=\"dataframe\">\n",
       "  <thead>\n",
       "    <tr style=\"text-align: right;\">\n",
       "      <th></th>\n",
       "      <th>Ім'я Прізвище</th>\n",
       "      <th>Пільга</th>\n",
       "      <th>Бал з математики</th>\n",
       "      <th>Бал з англійської</th>\n",
       "      <th>Бал з української</th>\n",
       "      <th>Рейтинг</th>\n",
       "      <th>Рішення</th>\n",
       "    </tr>\n",
       "  </thead>\n",
       "  <tbody>\n",
       "    <tr>\n",
       "      <th>927</th>\n",
       "      <td>Людмила Бондар</td>\n",
       "      <td>False</td>\n",
       "      <td>199.0</td>\n",
       "      <td>180.0</td>\n",
       "      <td>200.0</td>\n",
       "      <td>193.6</td>\n",
       "      <td>Зараховано</td>\n",
       "    </tr>\n",
       "    <tr>\n",
       "      <th>448</th>\n",
       "      <td>Руслан Ковальчук</td>\n",
       "      <td>False</td>\n",
       "      <td>198.0</td>\n",
       "      <td>192.0</td>\n",
       "      <td>187.0</td>\n",
       "      <td>192.9</td>\n",
       "      <td>Зараховано</td>\n",
       "    </tr>\n",
       "    <tr>\n",
       "      <th>901</th>\n",
       "      <td>Марина Кравцов</td>\n",
       "      <td>False</td>\n",
       "      <td>195.0</td>\n",
       "      <td>187.0</td>\n",
       "      <td>196.0</td>\n",
       "      <td>192.9</td>\n",
       "      <td>Зараховано</td>\n",
       "    </tr>\n",
       "    <tr>\n",
       "      <th>582</th>\n",
       "      <td>Денис Остапчук</td>\n",
       "      <td>False</td>\n",
       "      <td>189.0</td>\n",
       "      <td>189.0</td>\n",
       "      <td>200.0</td>\n",
       "      <td>192.3</td>\n",
       "      <td>Зараховано</td>\n",
       "    </tr>\n",
       "    <tr>\n",
       "      <th>805</th>\n",
       "      <td>Олександр Марченко</td>\n",
       "      <td>False</td>\n",
       "      <td>199.0</td>\n",
       "      <td>182.0</td>\n",
       "      <td>192.0</td>\n",
       "      <td>191.8</td>\n",
       "      <td>Зараховано</td>\n",
       "    </tr>\n",
       "    <tr>\n",
       "      <th>...</th>\n",
       "      <td>...</td>\n",
       "      <td>...</td>\n",
       "      <td>...</td>\n",
       "      <td>...</td>\n",
       "      <td>...</td>\n",
       "      <td>...</td>\n",
       "      <td>...</td>\n",
       "    </tr>\n",
       "    <tr>\n",
       "      <th>1179</th>\n",
       "      <td>Олег Ковальчук</td>\n",
       "      <td>True</td>\n",
       "      <td>101.0</td>\n",
       "      <td>118.0</td>\n",
       "      <td>110.0</td>\n",
       "      <td>108.8</td>\n",
       "      <td>Незараховано</td>\n",
       "    </tr>\n",
       "    <tr>\n",
       "      <th>735</th>\n",
       "      <td>Андрій Симоненко</td>\n",
       "      <td>False</td>\n",
       "      <td>120.0</td>\n",
       "      <td>100.0</td>\n",
       "      <td>101.0</td>\n",
       "      <td>108.3</td>\n",
       "      <td>Незараховано</td>\n",
       "    </tr>\n",
       "    <tr>\n",
       "      <th>1328</th>\n",
       "      <td>Юлія Попов</td>\n",
       "      <td>False</td>\n",
       "      <td>106.0</td>\n",
       "      <td>100.0</td>\n",
       "      <td>109.0</td>\n",
       "      <td>105.1</td>\n",
       "      <td>Незараховано</td>\n",
       "    </tr>\n",
       "    <tr>\n",
       "      <th>526</th>\n",
       "      <td>Євген Марченко</td>\n",
       "      <td>False</td>\n",
       "      <td>102.0</td>\n",
       "      <td>104.0</td>\n",
       "      <td>103.0</td>\n",
       "      <td>102.9</td>\n",
       "      <td>Незараховано</td>\n",
       "    </tr>\n",
       "    <tr>\n",
       "      <th>1127</th>\n",
       "      <td>Ірина Лук'яненко</td>\n",
       "      <td>False</td>\n",
       "      <td>100.0</td>\n",
       "      <td>105.0</td>\n",
       "      <td>101.0</td>\n",
       "      <td>101.8</td>\n",
       "      <td>Незараховано</td>\n",
       "    </tr>\n",
       "  </tbody>\n",
       "</table>\n",
       "<p>1500 rows × 7 columns</p>\n",
       "</div>"
      ],
      "text/plain": [
       "           Ім'я Прізвище  Пільга  Бал з математики  Бал з англійської  \\\n",
       "927       Людмила Бондар   False             199.0              180.0   \n",
       "448     Руслан Ковальчук   False             198.0              192.0   \n",
       "901       Марина Кравцов   False             195.0              187.0   \n",
       "582       Денис Остапчук   False             189.0              189.0   \n",
       "805   Олександр Марченко   False             199.0              182.0   \n",
       "...                  ...     ...               ...                ...   \n",
       "1179      Олег Ковальчук    True             101.0              118.0   \n",
       "735     Андрій Симоненко   False             120.0              100.0   \n",
       "1328          Юлія Попов   False             106.0              100.0   \n",
       "526       Євген Марченко   False             102.0              104.0   \n",
       "1127    Ірина Лук'яненко   False             100.0              105.0   \n",
       "\n",
       "      Бал з української  Рейтинг       Рішення  \n",
       "927               200.0    193.6    Зараховано  \n",
       "448               187.0    192.9    Зараховано  \n",
       "901               196.0    192.9    Зараховано  \n",
       "582               200.0    192.3    Зараховано  \n",
       "805               192.0    191.8    Зараховано  \n",
       "...                 ...      ...           ...  \n",
       "1179              110.0    108.8  Незараховано  \n",
       "735               101.0    108.3  Незараховано  \n",
       "1328              109.0    105.1  Незараховано  \n",
       "526               103.0    102.9  Незараховано  \n",
       "1127              101.0    101.8  Незараховано  \n",
       "\n",
       "[1500 rows x 7 columns]"
      ]
     },
     "execution_count": 26,
     "metadata": {},
     "output_type": "execute_result"
    }
   ],
   "source": [
    "result_df['Пільга'] = result_df['Пільга'].astype(bool)\n",
    "result_df"
   ]
  },
  {
   "cell_type": "code",
   "execution_count": 27,
   "id": "b45bd230",
   "metadata": {},
   "outputs": [
    {
     "name": "stdout",
     "output_type": "stream",
     "text": [
      "Зараховано всього: 365\n",
      "Зараховано пільговиків: 31\n",
      "Зараховано НЕ пільговиків: 334\n"
     ]
    }
   ],
   "source": [
    "print('Зараховано всього:', result_df[result_df['Рішення'] == 'Зараховано'].shape[0])\n",
    "print('Зараховано пільговиків:',result_df[(result_df['Пільга']) & (result_df['Рішення'] == 'Зараховано')].shape[0]) \n",
    "print('Зараховано НЕ пільговиків:',result_df[(result_df['Пільга'] == 0) & (result_df['Рішення'] == 'Зараховано')].shape[0])"
   ]
  },
  {
   "cell_type": "markdown",
   "id": "d21dcb31",
   "metadata": {},
   "source": [
    "Завантажимо дані у форматі xlsx"
   ]
  },
  {
   "cell_type": "code",
   "execution_count": 28,
   "id": "9b9c4959",
   "metadata": {},
   "outputs": [],
   "source": [
    "result_df[result_df['Рішення'] == 'Зараховано'].to_excel('result.xlsx', index=False)"
   ]
  },
  {
   "cell_type": "markdown",
   "id": "3c05a0b7",
   "metadata": {},
   "source": [
    "# Візуалізуємо отримані результати"
   ]
  },
  {
   "cell_type": "code",
   "execution_count": 36,
   "id": "74f3baef",
   "metadata": {},
   "outputs": [
    {
     "data": {
      "image/png": "[encoded data removed]",
      "text/plain": [
       "<Figure size 1000x600 with 1 Axes>"
      ]
     },
     "metadata": {},
     "output_type": "display_data"
    }
   ],
   "source": [
    "import matplotlib.pyplot as plt\n",
    "\n",
    "passed_students = result_df[result_df['Рішення'] == 'Зараховано']\n",
    "\n",
    "mean_score = passed_students['Рейтинг'].mean()\n",
    "median_score = passed_students['Рейтинг'].median()\n",
    "mode_score = passed_students['Рейтинг'].mode()[0]  \n",
    "\n",
    "plt.figure(figsize=(10, 6))\n",
    "plt.hist(passed_students['Рейтинг'], bins=20, color='blue', alpha=0.7)\n",
    "\n",
    "plt.axvline(mean_score, color='r', linestyle='--', label='Середнє значення')\n",
    "plt.axvline(median_score, color='g', linestyle='--', label='Медіана')\n",
    "plt.axvline(mode_score, color='y', linestyle='--', label='Мода')\n",
    "\n",
    "plt.title('Розподіл середнього балу зарахованих студентів', fontsize=16)\n",
    "plt.xlabel('Середній бал', fontsize=14)\n",
    "plt.ylabel('Кількість студентів', fontsize=14)\n",
    "plt.legend()\n",
    "plt.show()"
   ]
  }
 ],
 "metadata": {
  "kernelspec": {
   "display_name": "Python 3 (ipykernel)",
   "language": "python",
   "name": "python3"
  },
  "language_info": {
   "codemirror_mode": {
    "name": "ipython",
    "version": 3
   },
   "file_extension": ".py",
   "mimetype": "text/x-python",
   "name": "python",
   "nbconvert_exporter": "python",
   "pygments_lexer": "ipython3",
   "version": "3.11.5"
  }
 },
 "nbformat": 4,
 "nbformat_minor": 5
}
